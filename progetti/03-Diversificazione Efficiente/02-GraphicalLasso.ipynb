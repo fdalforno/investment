{
 "cells": [
  {
   "cell_type": "markdown",
   "id": "849d1f12",
   "metadata": {},
   "source": [
    "# Test dei metodi Graphical Lasso\n",
    "\n",
    "in questo modulo testiamo i metodi Graphical Lasso"
   ]
  },
  {
   "cell_type": "code",
   "execution_count": 1,
   "id": "4fc54ee1",
   "metadata": {},
   "outputs": [],
   "source": [
    "import numpy as np\n",
    "import pandas as pd\n",
    "from sklearn.covariance import GraphicalLassoCV\n",
    "from sklearn.covariance import GraphicalLasso"
   ]
  },
  {
   "cell_type": "markdown",
   "id": "caed76b3",
   "metadata": {},
   "source": [
    "definiamo la matrice di covarianza e generiamo un dataset con del rumore che abbia quella covarianza"
   ]
  },
  {
   "cell_type": "code",
   "execution_count": 2,
   "id": "298cf93e",
   "metadata": {},
   "outputs": [],
   "source": [
    "# Define true covariance matrix\n",
    "true_cov = np.array([[0.8, 0.0, 0.2, 0.0],\n",
    "                     [0.0, 0.4, 0.0, 0.0],\n",
    "                     [0.2, 0.0, 0.3, 0.1],\n",
    "                     [0.0, 0.0, 0.1, 0.7]])\n",
    "\n",
    "# Set seed and generate X from multivaraite norm with specified covariance\n",
    "np.random.seed(0)\n",
    "X = np.random.multivariate_normal(mean=[0, 0, 0, 0], cov=true_cov, size=200)"
   ]
  },
  {
   "cell_type": "markdown",
   "id": "082f0346",
   "metadata": {},
   "source": [
    "Calcoliamo la vera matrice di precisione partendo dalla matrice di covarianza"
   ]
  },
  {
   "cell_type": "code",
   "execution_count": 3,
   "id": "4e6b7f2e",
   "metadata": {},
   "outputs": [
    {
     "data": {
      "text/plain": [
       "array([[ 1.51515152,  0.        , -1.06060606,  0.15151515],\n",
       "       [ 0.        ,  2.5       ,  0.        ,  0.        ],\n",
       "       [-1.06060606,  0.        ,  4.24242424, -0.60606061],\n",
       "       [ 0.15151515,  0.        , -0.60606061,  1.51515152]])"
      ]
     },
     "execution_count": 3,
     "metadata": {},
     "output_type": "execute_result"
    }
   ],
   "source": [
    "# True precision matrix calculated from the inverse of true covariance matrix\n",
    "true_prec = np.linalg.inv(true_cov)\n",
    "true_prec"
   ]
  },
  {
   "cell_type": "markdown",
   "id": "0dd821fa",
   "metadata": {},
   "source": [
    "Eseguiamo il modello per estrarre la stima della matrice di covarianza"
   ]
  },
  {
   "cell_type": "code",
   "execution_count": 4,
   "id": "628a6073",
   "metadata": {},
   "outputs": [],
   "source": [
    "# Fit the GraphicalLassoCV model\n",
    "est = GraphicalLassoCV(max_iter = 1000).fit(X)"
   ]
  },
  {
   "cell_type": "code",
   "execution_count": 5,
   "id": "10faf7f2",
   "metadata": {},
   "outputs": [
    {
     "data": {
      "text/plain": [
       "array([[0.816, 0.051, 0.22 , 0.017],\n",
       "       [0.051, 0.364, 0.018, 0.036],\n",
       "       [0.22 , 0.018, 0.322, 0.094],\n",
       "       [0.017, 0.036, 0.094, 0.69 ]])"
      ]
     },
     "execution_count": 5,
     "metadata": {},
     "output_type": "execute_result"
    }
   ],
   "source": [
    "# The estimated covariance matrix from GraphicalLassoCV\n",
    "np.around(est.covariance_, decimals=3)"
   ]
  },
  {
   "cell_type": "code",
   "execution_count": 6,
   "id": "68dd521f",
   "metadata": {},
   "outputs": [
    {
     "data": {
      "text/plain": [
       "array([[ 1.521, -0.17 , -1.063,  0.116],\n",
       "       [-0.17 ,  2.784, -0.   , -0.14 ],\n",
       "       [-1.063, -0.   ,  3.982, -0.518],\n",
       "       [ 0.116, -0.14 , -0.518,  1.524]])"
      ]
     },
     "execution_count": 6,
     "metadata": {},
     "output_type": "execute_result"
    }
   ],
   "source": [
    "# The estimated precision matrix from GraphicalLassoCV\n",
    "np.around(est.precision_, decimals=3)"
   ]
  },
  {
   "cell_type": "code",
   "execution_count": 10,
   "id": "5f6a796d",
   "metadata": {},
   "outputs": [
    {
     "data": {
      "text/plain": [
       "0.008181811323310077"
      ]
     },
     "execution_count": 10,
     "metadata": {},
     "output_type": "execute_result"
    }
   ],
   "source": [
    "# The lambda chosen by cross validation\n",
    "est.alpha_"
   ]
  },
  {
   "cell_type": "code",
   "execution_count": 13,
   "id": "dcba23c5",
   "metadata": {},
   "outputs": [
    {
     "data": {
      "text/plain": [
       "array([0.22813021, 0.04914916, 0.02659803, 0.01439404, 0.01058887,\n",
       "       0.00880744, 0.00848886, 0.00818181, 0.00788587, 0.00778962,\n",
       "       0.00760063, 0.00732571, 0.00609326, 0.00506815, 0.0042155 ,\n",
       "       0.0022813 , 0.        ])"
      ]
     },
     "execution_count": 13,
     "metadata": {},
     "output_type": "execute_result"
    }
   ],
   "source": [
    "#grid_scores_ndarray of shape (n_alphas, n_folds): Log-likelihood score on left-out data across folds.\n",
    "est.cv_results_['alphas']"
   ]
  },
  {
   "cell_type": "code",
   "execution_count": 14,
   "id": "2b87ac52",
   "metadata": {},
   "outputs": [
    {
     "data": {
      "text/plain": [
       "{'alphas': array([0.22813021, 0.04914916, 0.02659803, 0.01439404, 0.01058887,\n",
       "        0.00880744, 0.00848886, 0.00818181, 0.00788587, 0.00778962,\n",
       "        0.00760063, 0.00732571, 0.00609326, 0.00506815, 0.0042155 ,\n",
       "        0.0022813 , 0.        ]),\n",
       " 'split0_test_score': array([-4.5049066 , -4.31414476, -4.28054757, -4.2634157 , -4.25694475,\n",
       "        -4.25407385, -4.25357117, -4.25308911, -4.25262808, -4.25247831,\n",
       "        -4.25218632, -4.25176298, -4.2498957 , -4.24838069, -4.24714687,\n",
       "        -4.24443974, -4.39545778]),\n",
       " 'split1_test_score': array([-4.16555278, -4.04496622, -4.03727565, -4.03282049, -4.0296201 ,\n",
       "        -4.0281863 , -4.02793428, -4.02769267, -4.02746098, -4.02738586,\n",
       "        -4.0272388 , -4.02702568, -4.02608312, -4.02531532, -4.02468813,\n",
       "        -4.02325686, -4.03811536]),\n",
       " 'split2_test_score': array([-4.23987021, -4.16736723, -4.16101242, -4.16170265, -4.16275759,\n",
       "        -4.16340489, -4.16353132, -4.16365619, -4.16405744, -4.16421117,\n",
       "        -4.16451539, -4.16496365, -4.16705857, -4.1689103 , -4.17052889,\n",
       "        -4.17447663, -4.19462868]),\n",
       " 'split3_test_score': array([-4.23458799, -4.17421485, -4.17537114, -4.17442386, -4.17514268,\n",
       "        -4.17566483, -4.17577115, -4.17587736, -4.17598335, -4.17601858,\n",
       "        -4.17608881, -4.17629905, -4.17803833, -4.17958461, -4.18094213,\n",
       "        -4.18427326, -4.20917839]),\n",
       " 'split4_test_score': array([-4.23757153, -4.16488593, -4.17071319, -4.17795533, -4.18115598,\n",
       "        -4.18282186, -4.18313091, -4.18343378, -4.18372773, -4.18382343,\n",
       "        -4.18401406, -4.1842922 , -4.18557518, -4.18668471, -4.18763737,\n",
       "        -4.18990145, -4.41602345]),\n",
       " 'mean_test_score': array([-4.27649782, -4.1731158 , -4.16498399, -4.16206361, -4.16112422,\n",
       "        -4.16083035, -4.16078776, -4.16074982, -4.16077152, -4.16078347,\n",
       "        -4.16080868, -4.16086871, -4.16133018, -4.16177512, -4.16218868,\n",
       "        -4.16326959, -4.25068073]),\n",
       " 'std_test_score': array([0.11755224, 0.0853387 , 0.07722804, 0.074002  , 0.07358718,\n",
       "        0.07348348, 0.07347116, 0.07346101, 0.07345544, 0.07345415,\n",
       "        0.0734527 , 0.07345645, 0.07353287, 0.07363475, 0.07374711,\n",
       "        0.07411905, 0.14024758])}"
      ]
     },
     "execution_count": 14,
     "metadata": {},
     "output_type": "execute_result"
    }
   ],
   "source": [
    "est.cv_results_"
   ]
  },
  {
   "cell_type": "code",
   "execution_count": null,
   "id": "c654584f",
   "metadata": {},
   "outputs": [],
   "source": []
  }
 ],
 "metadata": {
  "kernelspec": {
   "display_name": "Python 3 (ipykernel)",
   "language": "python",
   "name": "python3"
  },
  "language_info": {
   "codemirror_mode": {
    "name": "ipython",
    "version": 3
   },
   "file_extension": ".py",
   "mimetype": "text/x-python",
   "name": "python",
   "nbconvert_exporter": "python",
   "pygments_lexer": "ipython3",
   "version": "3.11.5"
  }
 },
 "nbformat": 4,
 "nbformat_minor": 5
}
