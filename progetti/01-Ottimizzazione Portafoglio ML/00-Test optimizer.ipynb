{
 "cells": [
  {
   "cell_type": "code",
   "execution_count": 1,
   "id": "c51f6ceb",
   "metadata": {},
   "outputs": [],
   "source": [
    "%load_ext autoreload\n",
    "%autoreload 2"
   ]
  },
  {
   "cell_type": "code",
   "execution_count": 2,
   "id": "85e659ce",
   "metadata": {},
   "outputs": [],
   "source": [
    "import cvxpy as cp"
   ]
  },
  {
   "cell_type": "markdown",
   "id": "481609ea",
   "metadata": {},
   "source": [
    "La libreria cvxpy non è un ottimizzatore, ma un layer che ci permette di esprimere i problemi convessi in modo naturale.\n",
    "Creiamo un primo esempio di problema convesso, spiegiamo il funzionamento del codice:\n",
    "\n",
    "* `x = cp.Variable(1)` identifica una variabile da ottimizzare 1 rappresenta la dimensione  \n",
    "* `cp.Minimize(x ** 2 - 6 * x + 10)` è la funzione obiettivo da minimizzare\n",
    "* nella riga sucessiva vengono definiti i vincoli a cui la variabile deve sottostare"
   ]
  },
  {
   "cell_type": "code",
   "execution_count": 3,
   "id": "537096ad",
   "metadata": {},
   "outputs": [
    {
     "data": {
      "text/plain": [
       "2.0"
      ]
     },
     "execution_count": 3,
     "metadata": {},
     "output_type": "execute_result"
    }
   ],
   "source": [
    "x = cp.Variable(1)      \n",
    "objective = cp.Minimize(x ** 2 - 6 * x + 10)\n",
    "constraints = [x >= 4, x <= 10]\n",
    "prob = cp.Problem(objective, constraints)\n",
    "result = prob.solve()\n",
    "result"
   ]
  },
  {
   "cell_type": "code",
   "execution_count": 4,
   "id": "47f0b041",
   "metadata": {},
   "outputs": [
    {
     "data": {
      "text/plain": [
       "[<matplotlib.lines.Line2D at 0x1cf149ca050>]"
      ]
     },
     "execution_count": 4,
     "metadata": {},
     "output_type": "execute_result"
    },
    {
     "data": {
      "image/png": "[encoded data removed]",
      "text/plain": [
       "<Figure size 640x480 with 1 Axes>"
      ]
     },
     "metadata": {},
     "output_type": "display_data"
    }
   ],
   "source": [
    "import numpy as np\n",
    "import matplotlib.pyplot as plt\n",
    "\n",
    "t = np.linspace(4,10,50)\n",
    "y = t ** 2 - 6 * t + 10\n",
    "plt.plot(t,y)"
   ]
  },
  {
   "cell_type": "markdown",
   "id": "a9f3dc13",
   "metadata": {},
   "source": [
    "per ottenere il valore minimo della variabile basta visualizzare la proprieta .value"
   ]
  },
  {
   "cell_type": "code",
   "execution_count": 5,
   "id": "d5ab92ac",
   "metadata": {},
   "outputs": [
    {
     "data": {
      "text/plain": [
       "array([4.])"
      ]
     },
     "execution_count": 5,
     "metadata": {},
     "output_type": "execute_result"
    }
   ],
   "source": [
    "x.value"
   ]
  },
  {
   "cell_type": "markdown",
   "id": "30ea83a9",
   "metadata": {},
   "source": [
    "Nel caso in cui tentassimo di ottimizzare un problema non convesso otterremo questo errore"
   ]
  },
  {
   "cell_type": "code",
   "execution_count": 6,
   "id": "5ef907b6",
   "metadata": {},
   "outputs": [
    {
     "name": "stdout",
     "output_type": "stream",
     "text": [
      "Problem does not follow DCP rules. Specifically:\n",
      "The objective is not DCP. Its following subexpressions are not:\n",
      "(var33 + -1.0) @ (var33 + 1.0)\n"
     ]
    },
    {
     "name": "stderr",
     "output_type": "stream",
     "text": [
      "C:\\ProgramData\\anaconda3\\Lib\\site-packages\\cvxpy\\expressions\\expression.py:650: UserWarning: \n",
      "This use of ``*`` has resulted in matrix multiplication.\n",
      "Using ``*`` for matrix multiplication has been deprecated since CVXPY 1.1.\n",
      "    Use ``*`` for matrix-scalar and vector-scalar multiplication.\n",
      "    Use ``@`` for matrix-matrix and matrix-vector multiplication.\n",
      "    Use ``multiply`` for elementwise multiplication.\n",
      "This code path has been hit 1 times so far.\n",
      "\n",
      "  warnings.warn(msg, UserWarning)\n",
      "C:\\ProgramData\\anaconda3\\Lib\\site-packages\\cvxpy\\expressions\\expression.py:650: UserWarning: \n",
      "This use of ``*`` has resulted in matrix multiplication.\n",
      "Using ``*`` for matrix multiplication has been deprecated since CVXPY 1.1.\n",
      "    Use ``*`` for matrix-scalar and vector-scalar multiplication.\n",
      "    Use ``@`` for matrix-matrix and matrix-vector multiplication.\n",
      "    Use ``multiply`` for elementwise multiplication.\n",
      "This code path has been hit 2 times so far.\n",
      "\n",
      "  warnings.warn(msg, UserWarning)\n"
     ]
    }
   ],
   "source": [
    "x = cp.Variable(1)\n",
    "objective = cp.Maximize((x - 1) * (x + 1) * (x + 2) * (x - 3))\n",
    "constraints = []\n",
    " \n",
    "prob = cp.Problem(objective, constraints)\n",
    "\n",
    "try:\n",
    "    result = prob.solve()\n",
    "except Exception as e:\n",
    "    print(e)"
   ]
  },
  {
   "cell_type": "markdown",
   "id": "c05c1e91",
   "metadata": {},
   "source": [
    "## Modellare un problema media varianza\n",
    "\n",
    "iniziamo con il modellare il problema media varianza :\n",
    "\n",
    "$min(\\omega^T \\Sigma \\omega)$\n",
    "\n",
    "Con i seguenti vincoli:\n",
    "\n",
    "$$\\mu^T w \\geq \\bar{r}$$\n",
    "\n",
    "$$ \\textbf{1}^T w = 1 $$"
   ]
  },
  {
   "cell_type": "code",
   "execution_count": 7,
   "id": "3d5d0cf3",
   "metadata": {},
   "outputs": [
    {
     "data": {
      "text/plain": [
       "0.015902777777777776"
      ]
     },
     "execution_count": 7,
     "metadata": {},
     "output_type": "execute_result"
    }
   ],
   "source": [
    "import numpy as np\n",
    "\n",
    "Sigma = np.matrix([[0.0225 , 0.0216 , 0.00075],   \n",
    "                   [0.0216 , 0.0324 , 0.00045], \n",
    "                   [0.00075, 0.00045, 0.0025]])\n",
    "mu = np.array([.06, .05, .03])\n",
    "r = .055\n",
    "\n",
    "N = len(mu)\n",
    "w = cp.Variable(N)\n",
    "objective = cp.Minimize(cp.quad_form(w, Sigma))\n",
    "constraints = [w.T @ mu >= r, cp.sum(w) == 1, w>=0]\n",
    "prob = cp.Problem(objective, constraints)\n",
    "result = prob.solve()\n",
    "result"
   ]
  },
  {
   "cell_type": "markdown",
   "id": "08dae77a",
   "metadata": {},
   "source": [
    "Alcune note su questo problema:\n",
    "\n",
    "* `cp.quad_form` effettua il calcolo $\\omega^T \\Sigma \\omega$\n",
    "* `cp.sum` somma tutti i pesi della variabile"
   ]
  },
  {
   "cell_type": "code",
   "execution_count": 8,
   "id": "392a42a4",
   "metadata": {},
   "outputs": [
    {
     "data": {
      "text/plain": [
       "array([0.83, 0.  , 0.17])"
      ]
     },
     "execution_count": 8,
     "metadata": {},
     "output_type": "execute_result"
    }
   ],
   "source": [
    "np.round(w.value,2)"
   ]
  },
  {
   "cell_type": "markdown",
   "id": "f44566b5",
   "metadata": {},
   "source": [
    "se volessimo imporre che il peso massimo di un asset non deve superare un certo valore basterebbe imporre che \n",
    "$$\n",
    "\\|\\mathbf{x}\\|_{\\infty} = \\max_i |x_i|\n",
    "$$"
   ]
  },
  {
   "cell_type": "code",
   "execution_count": 9,
   "id": "cb597f4d",
   "metadata": {},
   "outputs": [],
   "source": [
    "constraints.append(cp.norm_inf(w) <= 0.5)"
   ]
  },
  {
   "cell_type": "code",
   "execution_count": 10,
   "id": "2ac5e67a",
   "metadata": {},
   "outputs": [
    {
     "data": {
      "text/plain": [
       "array([0.5, 0.5, 0. ])"
      ]
     },
     "execution_count": 10,
     "metadata": {},
     "output_type": "execute_result"
    }
   ],
   "source": [
    "prob = cp.Problem(objective, constraints)\n",
    "result = prob.solve()\n",
    "np.round(w.value,2)"
   ]
  },
  {
   "cell_type": "markdown",
   "id": "fe9b4bc1",
   "metadata": {},
   "source": [
    "Creiamo un portafoglio giocattolo e iniziamo a definire le classi base del nostro ottimizzatore"
   ]
  },
  {
   "cell_type": "code",
   "execution_count": 11,
   "id": "0c5ec608",
   "metadata": {},
   "outputs": [],
   "source": [
    "import pandas as pd\n",
    "\n",
    "tickers = ['VTI', 'VEA', 'VWO', 'AGG', 'BNDX', 'EMB']\n",
    "ers = pd.Series([.05, .05, .07, .03, .02, .04], tickers)\n",
    "sigma = np.array(\n",
    "    [[0.0287, 0.0250, 0.0267, 0.0000, 0.0002, 0.0084],\n",
    "     [0.0250, 0.0281, 0.0288, 0.0003, 0.0002, 0.0092],\n",
    "     [0.0267, 0.0288, 0.0414, 0.0005, 0.0004, 0.0112],\n",
    "     [0.0000, 0.0003, 0.0005, 0.0017, 0.0008, 0.0019],\n",
    "     [0.0002, 0.0002, 0.0004, 0.0008, 0.0010, 0.0011],\n",
    "     [0.0084, 0.0092, 0.0112, 0.0019, 0.0011, 0.0083]])\n",
    "sigma = pd.DataFrame(sigma, tickers, tickers)"
   ]
  },
  {
   "cell_type": "markdown",
   "id": "2bfca24b",
   "metadata": {},
   "source": [
    "Modelliamo i vincoli partendo da una classe base"
   ]
  },
  {
   "cell_type": "code",
   "execution_count": 12,
   "id": "3ddc713b",
   "metadata": {},
   "outputs": [],
   "source": [
    "from typing import Dict \n",
    "class Constraint:\n",
    " \n",
    "    def generate_constraint(self, variables: Dict):\n",
    "        \"\"\" Create the cvxpy Constraint\n",
    " \n",
    "        :param variables: dictionary containing the cvxpy Variables for the\n",
    "          problem\n",
    "        :return: A cvxpy Constraint object representing the constraint\n",
    "        \"\"\"\n",
    "        pass"
   ]
  },
  {
   "cell_type": "markdown",
   "id": "7728a665",
   "metadata": {},
   "source": [
    "Da questo impostiamo i vincoli di investimento totale e di posizione lunga"
   ]
  },
  {
   "cell_type": "code",
   "execution_count": 13,
   "id": "79118dd1",
   "metadata": {},
   "outputs": [],
   "source": [
    "class LongOnlyConstraint(Constraint):\n",
    " \n",
    "    def __init__(self):\n",
    "        \"\"\" Constraint to enforce all portfolio weights are non-negative\n",
    "        \"\"\"\n",
    "        pass\n",
    " \n",
    "    def generate_constraint(self, variables: Dict):\n",
    "        return variables['w'] >= 0\n",
    " \n",
    " \n",
    "class FullInvestmentConstraint(Constraint):\n",
    " \n",
    "    def __init__(self):\n",
    "        \"\"\" Constraint to enforce the sum of the portfolio weights is one\n",
    "        \"\"\"\n",
    "        pass\n",
    " \n",
    "    def generate_constraint(self, variables: Dict):\n",
    "        return cp.sum(variables['w']) == 1.0\n",
    " "
   ]
  },
  {
   "cell_type": "markdown",
   "id": "52ca8829",
   "metadata": {},
   "source": [
    "Generiamo un ulteriore vincolo che a prima vista può sembrare un attimino più complicato impostiamo un portafgolio di riferimento `reference_weights`, volgiamo far si che la differenza della volatilità tra il portafoglio di riferimento e il nostro sia minima."
   ]
  },
  {
   "cell_type": "code",
   "execution_count": 14,
   "id": "2ad0e690",
   "metadata": {},
   "outputs": [],
   "source": [
    "from typing import Union, List\n",
    "\n",
    "class TrackingErrorConstraint(Constraint):\n",
    " \n",
    "    def __init__(self,\n",
    "                 asset_names: Union[List[str], pd.Index],\n",
    "                 reference_weights: pd.Series,\n",
    "                 sigma: pd.DataFrame,\n",
    "                 upper_bound: float):\n",
    "        \"\"\" Constraint on the tracking error between a subset of the\n",
    "        portfolio and a set of target weights\n",
    " \n",
    "        :param asset_names: Names of all assets in the problem\n",
    "        :param reference_weights: Vector of target weights. Index should be\n",
    "          a subset of asset_names\n",
    "        :param sigma: Covariance matrix, indexed by asset_names\n",
    "        :param upper_bound: Upper bound for the constraint, in units of\n",
    "          volatility (standard deviation)\n",
    "        \"\"\"\n",
    "        self.reference_weights = \\\n",
    "            reference_weights.reindex(asset_names).fillna(0)\n",
    "        self.sigma = sigma\n",
    "        self.upper_bound = upper_bound ** 2\n",
    " \n",
    "    def generate_constraint(self, variables: Dict):\n",
    "        w = variables['w']\n",
    "        tv = cp.quad_form(w - self.reference_weights, self.sigma)\n",
    "        return tv <= self.upper_bound"
   ]
  },
  {
   "cell_type": "markdown",
   "id": "29e4e802",
   "metadata": {},
   "source": [
    "il `VolatilityConstraint` è una variante del `TrackingErrorConstraint` in cui il portafoglio di riferimento ha peso zero."
   ]
  },
  {
   "cell_type": "code",
   "execution_count": 15,
   "id": "56f4166d",
   "metadata": {},
   "outputs": [],
   "source": [
    "class VolatilityConstraint(TrackingErrorConstraint):\n",
    " \n",
    "    def __init__(self,\n",
    "                 asset_names: Union[List[str], pd.Index],\n",
    "                 sigma: pd.DataFrame,\n",
    "                 upper_bound: float):\n",
    "        \"\"\" Constraint on the overall volatility of the portfolio\n",
    " \n",
    "        :param asset_names: Names of all assets in the problem\n",
    "        :param sigma: Covariance matrix, indexed by asset_names\n",
    "        :param upper_bound: Upper bound for the constraint, in units of\n",
    "          volatility (standard deviation)\n",
    "        \"\"\"\n",
    " \n",
    "        zeros = pd.Series(np.zeros(len(asset_names)), asset_names)\n",
    "        super(VolatilityConstraint, self).__init__(asset_names, zeros,\n",
    "                                                   sigma, upper_bound)"
   ]
  },
  {
   "cell_type": "code",
   "execution_count": 16,
   "id": "d808ef35",
   "metadata": {},
   "outputs": [],
   "source": [
    "class ReturnConstraint(Constraint):\n",
    "    def __init__(self,\n",
    "                 returns: pd.Series,\n",
    "                 lower_bound: float):\n",
    "        \n",
    "        self.returns = returns\n",
    "        self.lower_bound = lower_bound\n",
    "    \n",
    "    def generate_constraint(self, variables: Dict):\n",
    "        w = variables['w']\n",
    "        mu = self.returns\n",
    "        return w.T @ mu >= self.lower_bound"
   ]
  },
  {
   "cell_type": "markdown",
   "id": "fa983567",
   "metadata": {},
   "source": [
    "Definiamo ora il nostro problema "
   ]
  },
  {
   "cell_type": "code",
   "execution_count": 17,
   "id": "79714724",
   "metadata": {},
   "outputs": [],
   "source": [
    "from math import inf\n",
    "class MeanVarianceOpt:\n",
    " \n",
    "    def __init__(self):\n",
    "        self.asset_names = []\n",
    "        self.variables = None\n",
    "        self.prob = None\n",
    "        self.has_solution = False\n",
    "        self.solution = inf\n",
    " \n",
    "    @staticmethod\n",
    "    def _generate_constraints(variables: Dict,\n",
    "                              constraints: List[Constraint]):\n",
    "        return [c.generate_constraint(variables) for c in constraints]\n",
    " \n",
    "    def solve(self):\n",
    "        result = self.prob.solve()\n",
    "        status = self.prob.status\n",
    "        \n",
    "        if status not in [\"infeasible\", \"unbounded\"]:\n",
    "            print(\"Solution {0:.2} result status {1}\".format(result,status))\n",
    "            self.has_solution = True\n",
    "            self.solution = result\n",
    "        else:\n",
    "            print(\"WARNING:  the optimizer did NOT exit successfully!!\")\n",
    "            \n",
    " \n",
    "    def get_var(self, var_name: str):\n",
    "        return pd.Series(self.variables[var_name].value, self.asset_names)"
   ]
  },
  {
   "cell_type": "code",
   "execution_count": 18,
   "id": "5ae1a564",
   "metadata": {},
   "outputs": [],
   "source": [
    "class MaxExpectedReturnOpt(MeanVarianceOpt):\n",
    "\n",
    "    def __init__(self,\n",
    "                 asset_names: Union[List[str], pd.Index],\n",
    "                 constraints: List[Constraint],\n",
    "                 ers: pd.Series):\n",
    "        super().__init__()\n",
    "        self.asset_names = asset_names\n",
    "        variables = dict({'w': cp.Variable(len(ers))})\n",
    "\n",
    "        cons = MeanVarianceOpt._generate_constraints(variables,\n",
    "                                                     constraints)\n",
    "        obj = cp.Maximize(ers.values.T @ variables['w'])\n",
    "        self.variables = variables\n",
    "        self.prob = cp.Problem(obj, cons)"
   ]
  },
  {
   "cell_type": "code",
   "execution_count": 19,
   "id": "9fa61fe8",
   "metadata": {},
   "outputs": [],
   "source": [
    "class MinVarianceOpt(MeanVarianceOpt):\n",
    "    def __init__(self,\n",
    "                 asset_names: Union[List[str], pd.Index],\n",
    "                 constraints: List[Constraint],\n",
    "                 sigma: pd.DataFrame):\n",
    "        \n",
    "        super().__init__()\n",
    "        self.asset_names = asset_names\n",
    "        self.sigma = sigma\n",
    "        variables = dict({'w': cp.Variable(len(asset_names))})\n",
    "\n",
    "        cons = MeanVarianceOpt._generate_constraints(variables,\n",
    "                                                     constraints)\n",
    "        \n",
    "        obj = cp.Minimize(cp.quad_form(variables['w'],self.sigma))\n",
    "        self.variables = variables\n",
    "        self.prob = cp.Problem(obj, cons)"
   ]
  },
  {
   "cell_type": "code",
   "execution_count": 24,
   "id": "689d3778",
   "metadata": {},
   "outputs": [
    {
     "name": "stdout",
     "output_type": "stream",
     "text": [
      "Solution 0.0013 result status optimal\n",
      "VTI     0.034370\n",
      "VEA     0.000000\n",
      "VWO     0.050415\n",
      "AGG     0.644817\n",
      "BNDX    0.270398\n",
      "EMB    -0.000000\n",
      "dtype: float64\n"
     ]
    }
   ],
   "source": [
    "cons = [LongOnlyConstraint(), FullInvestmentConstraint(),ReturnConstraint(ers, .03)]\n",
    "o = MinVarianceOpt(ers.index, cons, sigma)\n",
    "o.solve()\n",
    "weights = np.round(o.get_var('w'), 6)\n",
    "print(weights)"
   ]
  },
  {
   "cell_type": "code",
   "execution_count": null,
   "id": "639d47e0",
   "metadata": {},
   "outputs": [],
   "source": []
  }
 ],
 "metadata": {
  "kernelspec": {
   "display_name": "Python 3 (ipykernel)",
   "language": "python",
   "name": "python3"
  },
  "language_info": {
   "codemirror_mode": {
    "name": "ipython",
    "version": 3
   },
   "file_extension": ".py",
   "mimetype": "text/x-python",
   "name": "python",
   "nbconvert_exporter": "python",
   "pygments_lexer": "ipython3",
   "version": "3.11.5"
  }
 },
 "nbformat": 4,
 "nbformat_minor": 5
}
