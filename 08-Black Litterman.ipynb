{
 "cells": [
  {
   "cell_type": "markdown",
   "id": "48659bb2",
   "metadata": {},
   "source": [
    "## Rendimenti attesi impliciti\n",
    "\n",
    "Cominciamo a ragionare su un nuovo modello che permette di lavorare con i dati ottenuti dai gestori attivi. cominciamo con l'introdurre l'estrazione delle stime implicite rendimenti attesi, il primo passo della procedura di Black Litterman.\n",
    "\n",
    "Possiamo usare i benckmark come punto di ancoraggio, in modo tale che se non abbiamo opinioni attive il nostro portafoglio converga verso una soluzione ottimale.\n",
    "\n",
    "Il modello che stiamo per costruire è una applicazione dell'analisi Bayesiana nella costruzione di portafogli. Questo modello è interessante perchè porta a costruire portafogli intuitivi.\n",
    "\n",
    "Entriamo nella analisi di questo modello. La prima parte di questo processo parte dal presupposto che il mercato o il benchmark siano dei portafogli ottimali. Da questo passo applichiamo una sorta di **reverse engineer** per ottenere i pesi di partenza.\n",
    "\n",
    "Come funziona questo **reverse engineering**?\n",
    "Nella costruzione classica del portafoglio si inizia con una serie di parametri (rendimenti attesi, varianza, covarianza) e da li con i metodi di ottimizzazione del portafoglio si arriva ad una serie di pesi che rappresenta il nostro portafoglio ottimale.\n",
    "\n",
    "Con il reverse engineering si parte da dalla matrice di covarianza e dai pesi del benchmark, da questo mediante l'ottimizzazione otteremo un rendimento atteso come risultato, questo viene chiamato anche **rendimento atteso implicito**.\n",
    "\n",
    "Ora facciamo un esercizio di stile, supponiamo che il nostro gestore attivo ci dica che il valore di una azione salirà al 12% potremmo confrontarlo con il rendimento atteso implicito, supponiamo che otteremo il 10% allora potremmo dire che il mercato in questo momento è rialzista.\n",
    "\n",
    "Alla fine tratteremo questo vettore di rendimenti impliciti $\\Pi$ come punto di riferimento e gli aggiungeremo una sorta di incertezza $\\epsilon^{e}$\n",
    "\n",
    "Da questa stima a priori incorporeremo le prospettive dei gestori attivi al fine di ottenere una stima a posteriori che verrà  utilizzata per creare i pesi del nostro portafoglio.\n",
    "\n",
    "## Incorporazione delle viste attive\n",
    "\n",
    "Come detto prima il modello permette di mescolare i rendimenti impliciti del mercato con le aspettative del gestore attivo, da questi due dati otteremmo tramite un lavoro di statistica bayesiana un rendimento atteso come risultato.\n",
    "\n",
    "Cerchiamo di capire come modellare queste viste attive, una vista di un portafoglio $P$ è modellata come una distribuzione normale con media $Q$ (un vettore) e deviazione standard $\\Omega$.\n",
    "\n",
    "Impostiamo $K$ come il numero di viste/opinioni che abbiamo e $N$ il numero totale di asset allora $K \\leq N$ allora: \n",
    "\n",
    "- $P$ è una matrice $K \\times N$ che identifica gli asset coinvolti nella vista.\n",
    "- $Q$ sarà un vettore di dimensione $K$ con il rendimento atteso del nostro portafoglio.\n",
    "- $\\Omega$ è una matrice $K \\times N$ che mostra i livelli di incertezza delle nostre viste.\n",
    "\n",
    "\n",
    "### Applicazione del modello\n",
    "\n",
    "Come nota da tenere a mente il vettore dei rendimenti $\\Pi$ è altamente correlato con il modello CAPM, inoltre le voste possono essere espresse sia in termini assoluti che in termini relativi \n",
    "\n",
    "## Formule del modello\n",
    "\n",
    "Assumiamo di avere $N$ asset e $K$ view. Ci sono due insiemi di parametri che servono al modello:\n",
    "\n",
    "Il primo insieme di parametri è relativo al mercato "
   ]
  },
  {
   "cell_type": "markdown",
   "id": "8762b6b1",
   "metadata": {},
   "source": [
    "\\begin{array}{ll}\n",
    "w & \\mbox{Un vettore colonna ($N \\times 1$) dei pesi di equilibrio del mercato} \\\\\n",
    "\\Sigma & \\mbox{Una matrice di covarianza ($N \\times N$) degli asset} \\\\\n",
    "R_f & \\mbox{Il tasso risk free} \\\\\n",
    "\\delta & \\mbox{Avversione al rischio dell'investitore}  \\\\\n",
    "\\tau & \\mbox{Uno scalare indicante l'incertezza della stima a priori (i dettagli qui sotto)}\n",
    "\\end{array}"
   ]
  },
  {
   "cell_type": "markdown",
   "id": "8171d952",
   "metadata": {},
   "source": [
    "Alcuni parametri possono essere dedotti se non specificati, Per esempio il parametro di avversione al rischio può essere impostato arbitrariamente Di solito viene usato un valore tra $\\delta = 2.5$ e  $\\delta = 2.14$.\n",
    "\n",
    "$\\tau$ può portare ad un po di confusione, alcuni lo impostano a 1, nel paper originale viene suggerito di usare un numero piccolo. Una tecnica comune è quella di usare $\\tau = 1/T$ con $T$ il numero di perodi usati.\n",
    "\n",
    "Ad esempio se useremo 5 periodi  $T=5$ imposteremo $1/5$ $\\tau=.2$"
   ]
  },
  {
   "cell_type": "markdown",
   "id": "890ac1a6",
   "metadata": {},
   "source": [
    "Il secondo insieme di parametri rappresenta le stime degli investitori che sono espresse come:\n",
    "\n",
    "\\begin{array}{ll}\n",
    "Q & \\mbox{An $K \\times 1$ ``Viste qualitative`` o semplicemente la matice delle viste} \\\\\n",
    "P & \\mbox{A $K \\times N$ ``Proiezione`` il collegamento tra ogni vista e il so assett } \\\\\n",
    "\\Omega & \\mbox{Una matrice di covarianza che rappresenta l'incertezza delle viste}\n",
    "\\end{array}\n",
    "\n",
    "Le viste sono rappresentate in  $Q$ e $P$ nel seguente modo:\n",
    "\n",
    "Se la $k$-esima vista è una vista assoluta viene rappresenta impostando l'elemento $Q_k$ del rendimento atteso e impostando $P_{ki}$ a 1 e tutti gli altri elementi della riga $k$ di $P$ a zero.\n",
    "\n",
    "Se la $k$-esima vista è una vista relativa, tra l'asset $i$ e $j$ questo viene rappresentato impostando $Q_k$ con la differenza del rendimento $i$ and $j$ e impostanto $P_{ki}$ a $-1$ per l'asset che sottoperformante $P_{kj}$ a $+1$ e tutti gli altri elementi della riga $k$\n",
    "\n",
    "$\\Omega$ viene impostata con l'incertezza specifica o viene dedotta dall'utente o dai dati. Viene suggerito che sia una matrice diagonale ottenuta da  $P \\tau \\Sigma P^T$ ed è quello che faremo nei test iniziali.\n",
    "\n",
    "#### La formula principale\n",
    "\n",
    "Il primo passo della procedura è _l'ottimizzazione inversa_ che deduce il vettore dei rendimenti impliciti $\\pi$ che deriva dai pesi in equilibrio del mercato $w$:\n",
    "\n",
    "$$\\pi = \\delta\\Sigma w$$\n",
    "\n",
    "Poi, i rendimenti e le covarianze a posteriori sono ottenuti con la formula di  _Black-Litterman_ che viene estratta dalle seguenti equazioni:\n",
    "\n",
    "\\begin{equation}\n",
    "\\label{eq:blMuOrig}\n",
    "\\mu^{BL} = [(\\tau\\Sigma)^{-1} + P \\Omega^{-1} P]^{-1}[(\\tau\\Sigma)^{-1} \\pi + P \\Omega^{-1} Q]\n",
    "\\end{equation}\n",
    "\n",
    "\\begin{equation}\n",
    "\\label{eq:blSigmaOrig}\n",
    "\\Sigma^{BL} = \\Sigma + [(\\tau\\Sigma)^{-1} + P \\Omega^{-1} P]^{-1}\n",
    "\\end{equation}\n",
    "\n",
    "#### La matrice inversa $\\Omega$\n",
    "\n",
    "Le formule indicate nelle equazioni prima  sono facilemente implementabili tuttavia dobbiamo trattare $\\Omega^{-1}$. Sfortunatamente $\\Omega$ spesso non è invertibile e questo da parecchie difficoltà.\n",
    "\n",
    "La formula è facilmente trasformabile in una equazione che non richiede questa inversione. \n",
    "Inoltre queste nuove formule risultano anche più stabili numericamente.\n",
    "\n",
    "\\begin{equation}\n",
    "\\label{eq:blMu}\n",
    "\\mu^{BL} = \\pi + \\tau \\Sigma P^T[(P \\tau \\Sigma P^T) + \\Omega]^{-1}[Q - P \\pi]\n",
    "\\end{equation}\n",
    "\n",
    "\\begin{equation}\n",
    "\\label{eq:blSigma}\n",
    "\\Sigma^{BL} = \\Sigma + \\tau \\Sigma - \\tau\\Sigma P^T(P \\tau \\Sigma P^T + \\Omega)^{-1} P \\tau \\Sigma\n",
    "\\end{equation}\n",
    "\n",
    "### Implementazione\n",
    "\n",
    "Inziamo a vedere come implementare questo modello, confronteremo i risultati anche con i pesi ottenute dalla ottimizzazione classica al fime di vedere le differenze dei vari pesi.\n",
    "\n",
    "La procedura di Black Litterman è implementata in python nella funzione `bl`. Prima di implementare il corpo di questa fuznione avremo bisogno di alcune funzioni di utilità.\n",
    "\n",
    "Numpy tratta i vettori colonna differentemente dagli array monodimensionali. Al fine di ottenere un vettore colonna creiamo la funzione `as_colvec` che prende un array numpy e lo trasforma in in vettore colonna."
   ]
  },
  {
   "cell_type": "code",
   "execution_count": 1,
   "id": "589f1cc8",
   "metadata": {},
   "outputs": [],
   "source": [
    "import numpy as np\n",
    "import pandas as pd\n",
    "\n",
    "def as_colvec(x):\n",
    "    if (x.ndim > 1):\n",
    "        return x\n",
    "    else:\n",
    "        return np.expand_dims(x, axis=1)"
   ]
  },
  {
   "cell_type": "code",
   "execution_count": 2,
   "id": "a40eb4ad",
   "metadata": {},
   "outputs": [
    {
     "data": {
      "text/plain": [
       "array([0, 1, 2, 3])"
      ]
     },
     "execution_count": 2,
     "metadata": {},
     "output_type": "execute_result"
    }
   ],
   "source": [
    "vec = np.arange(4)\n",
    "vec"
   ]
  },
  {
   "cell_type": "code",
   "execution_count": 3,
   "id": "1a35d9b4",
   "metadata": {},
   "outputs": [
    {
     "data": {
      "text/plain": [
       "array([[0],\n",
       "       [1],\n",
       "       [2],\n",
       "       [3]])"
      ]
     },
     "execution_count": 3,
     "metadata": {},
     "output_type": "execute_result"
    }
   ],
   "source": [
    "as_colvec(vec)"
   ]
  },
  {
   "cell_type": "markdown",
   "id": "528e6021",
   "metadata": {},
   "source": [
    "Il primo passo della procedura è il **reverse engineer** al fine di ottenere un vettore $\\pi$ da un insieme di pesi $w$"
   ]
  },
  {
   "cell_type": "code",
   "execution_count": 4,
   "id": "e3e053b3",
   "metadata": {},
   "outputs": [],
   "source": [
    "def implied_returns(delta, sigma, w):\n",
    "    \"\"\"\n",
    "Obtain the implied expected returns by reverse engineering the weights\n",
    "Inputs:\n",
    "delta: Risk Aversion Coefficient (scalar)\n",
    "sigma: Variance-Covariance Matrix (N x N) as DataFrame\n",
    "    w: Portfolio weights (N x 1) as Series\n",
    "Returns an N x 1 vector of Returns as Series\n",
    "    \"\"\"\n",
    "    ir = delta * sigma.dot(w).squeeze() # to get a series from a 1-column dataframe\n",
    "    ir.name = 'Implied Returns'\n",
    "    return ir"
   ]
  },
  {
   "cell_type": "markdown",
   "id": "f869676c",
   "metadata": {},
   "source": [
    "Come detto precedentemente se l'investitore non ha una idea specifica per quantificare l'incertezza associata alla vista della matrice $\\Omega$ possiamo semplificare l'assunzione che $\\Omega$ sia proporzionale alla varianza della stima a priori.\n",
    "\n",
    "$$\\Omega = diag(P (\\tau \\Sigma) P^T) $$"
   ]
  },
  {
   "cell_type": "code",
   "execution_count": 5,
   "id": "c08d71fe",
   "metadata": {},
   "outputs": [],
   "source": [
    "# Assumes that Omega is proportional to the variance of the prior\n",
    "def proportional_prior(sigma, tau, p):\n",
    "    \"\"\"\n",
    "    Returns the He-Litterman simplified Omega\n",
    "    Inputs:\n",
    "    sigma: N x N Covariance Matrix as DataFrame\n",
    "    tau: a scalar\n",
    "    p: a K x N DataFrame linking Q and Assets\n",
    "    returns a P x P DataFrame, a Matrix representing Prior Uncertainties\n",
    "    \"\"\"\n",
    "    helit_omega = p.dot(tau * sigma).dot(p.T)\n",
    "    # Make a diag matrix from the diag elements of Omega\n",
    "    return pd.DataFrame(np.diag(np.diag(helit_omega.values)),index=p.index, columns=p.index)"
   ]
  },
  {
   "cell_type": "markdown",
   "id": "30b2fdbc",
   "metadata": {},
   "source": [
    "Si può passare poi al calcolo del rendimento atteso a posteriori con la seguente funzione"
   ]
  },
  {
   "cell_type": "code",
   "execution_count": 6,
   "id": "36809f8e",
   "metadata": {},
   "outputs": [],
   "source": [
    "from numpy.linalg import inv\n",
    "\n",
    "def bl(w_prior, sigma_prior, p, q,\n",
    "                omega=None,\n",
    "                delta=2.5, tau=.02):\n",
    "    \"\"\"\n",
    "# Computes the posterior expected returns based on \n",
    "# the original black litterman reference model\n",
    "#\n",
    "# W.prior must be an N x 1 vector of weights, a Series\n",
    "# Sigma.prior is an N x N covariance matrix, a DataFrame\n",
    "# P must be a K x N matrix linking Q and the Assets, a DataFrame\n",
    "# Q must be an K x 1 vector of views, a Series\n",
    "# Omega must be a K x K matrix a DataFrame, or None\n",
    "# if Omega is None, we assume it is\n",
    "#    proportional to variance of the prior\n",
    "# delta and tau are scalars\n",
    "    \"\"\"\n",
    "    if omega is None:\n",
    "        omega = proportional_prior(sigma_prior, tau, p)\n",
    "    # Force w.prior and Q to be column vectors\n",
    "    # How many assets do we have?\n",
    "    N = w_prior.shape[0]\n",
    "    # And how many views?\n",
    "    K = q.shape[0]\n",
    "    # First, reverse-engineer the weights to get pi\n",
    "    pi = implied_returns(delta, sigma_prior,  w_prior)\n",
    "    # Adjust (scale) Sigma by the uncertainty scaling factor\n",
    "    sigma_prior_scaled = tau * sigma_prior  \n",
    "    # posterior estimate of the mean, use the \"Master Formula\"\n",
    "    # we use the versions that do not require\n",
    "    # Omega to be inverted (see previous section)\n",
    "    # this is easier to read if we use '@' for matrixmult instead of .dot()\n",
    "    #     mu_bl = pi + sigma_prior_scaled @ p.T @ inv(p @ sigma_prior_scaled @ p.T + omega) @ (q - p @ pi)\n",
    "    mu_bl = pi + sigma_prior_scaled.dot(p.T).dot(inv(p.dot(sigma_prior_scaled).dot(p.T) + omega).dot(q - p.dot(pi).values))\n",
    "    # posterior estimate of uncertainty of mu.bl\n",
    "#     sigma_bl = sigma_prior + sigma_prior_scaled - sigma_prior_scaled @ p.T @ inv(p @ sigma_prior_scaled @ p.T + omega) @ p @ sigma_prior_scaled\n",
    "    sigma_bl = sigma_prior + sigma_prior_scaled - sigma_prior_scaled.dot(p.T).dot(inv(p.dot(sigma_prior_scaled).dot(p.T) + omega)).dot(p).dot(sigma_prior_scaled)\n",
    "    return (mu_bl, sigma_bl)\n"
   ]
  },
  {
   "cell_type": "markdown",
   "id": "b0d950cb",
   "metadata": {},
   "source": [
    "Ora abbiamo tutto per iniziare a lavorare iniziamo con un caso semplice derivato da _Statistical Models and Methods for Financial Markets (Springer Texts in Statistics) 2008th Edition, Tze Lai and Haipeng Xing_.\n",
    "\n",
    "Consideriamo un portafoglio con due azioni Intel (INTC) e Pfizer (PFE).\n",
    "Dalla tabella 3.1 a pagina 72 del libro, otteniamo la matrice di covarianza (moltiplicata per $10^4$).\n",
    "\n",
    "\\begin{array}{lcc}\n",
    "INTC & 46.0 & 1.06 \\\\\n",
    "PFE   & 1.06 & 5.33\n",
    "\\end{array}\n",
    "\n",
    "\n",
    "Assumiamo che Intel abbia una capitalizzazione di mercato pari a 80 Miliardi di Dollari e che Pfizer ne abbia 100 Miliardi di Dollari (I dati non sono perfetti ma servono come scopo dell'esercizio).\n",
    "\n",
    "Se prendiamo la capitalizzazione come peso avremo che $W_{INTC} = 80/180 = 44\\%, W_{PFE} = 100/180 = 56\\%$.\n",
    "\n",
    "Possiamo calcolare i rendimenti impliciti $\\pi$ come:"
   ]
  },
  {
   "cell_type": "code",
   "execution_count": 7,
   "id": "362a3b69",
   "metadata": {},
   "outputs": [
    {
     "data": {
      "text/plain": [
       "INTC    0.052084\n",
       "PFE     0.008628\n",
       "Name: Implied Returns, dtype: float64"
      ]
     },
     "execution_count": 7,
     "metadata": {},
     "output_type": "execute_result"
    }
   ],
   "source": [
    "tickers = ['INTC', 'PFE']\n",
    "s = pd.DataFrame([[46.0, 1.06], [1.06, 5.33]], index=tickers, columns=tickers) *  10E-4\n",
    "pi = implied_returns(delta=2.5, sigma=s, w=pd.Series([.44, .56], index=tickers))\n",
    "pi"
   ]
  },
  {
   "cell_type": "markdown",
   "id": "f7c9b6ce",
   "metadata": {},
   "source": [
    "Deduciamo che i rendimenti impliciti per INTC sono leggermente superiori al 5% mentre saranno leggermente inferiori all'1% per PFE.\n",
    "\n",
    "Assumiamo che l'investore pensi che Intel avra un rendimento del 2\\% e che Pfizer avrà un rendimento pari al 4\\%. Esaminiamo i pesi ottimali usando la procedura di Markowitz.\n",
    "\n",
    "Che cosa potrebbe succedere se usiamo questi rendimenti attesi nel portafoglio ottimizzato?\n",
    "\n",
    "I pesi del portafoglio Max Sharpe Ratio (MSR) sono facilmente calcolabili nella forma implicita se non ci sono vincoli ai pesi.\n",
    "\n",
    "$$ W_{MSR} = \\frac{\\Sigma^{-1}\\mu_e}{\\bf{1}^T \\Sigma^{-1}\\mu_e} $$\n",
    "\n",
    "\n",
    "Con $\\mu_e$  il vettore dei rendimenti attesi e $\\Sigma$ la matrice di variance-covariance. "
   ]
  },
  {
   "cell_type": "code",
   "execution_count": 8,
   "id": "699f48d6",
   "metadata": {},
   "outputs": [],
   "source": [
    "# for convenience and readability, define the inverse of a dataframe\n",
    "def inverse(d):\n",
    "    \"\"\"\n",
    "    Invert the dataframe by inverting the underlying matrix\n",
    "    \"\"\"\n",
    "    return pd.DataFrame(inv(d.values), index=d.columns, columns=d.index)\n",
    "\n",
    "def w_msr(sigma, mu, scale=True):\n",
    "    \"\"\"\n",
    "    Optimal (Tangent/Max Sharpe Ratio) Portfolio weights\n",
    "    by using the Markowitz Optimization Procedure\n",
    "    Mu is the vector of Excess expected Returns\n",
    "    Sigma must be an N x N matrix as a DataFrame and Mu a column vector as a Series\n",
    "    This implements page 188 Equation 5.2.28 of\n",
    "    \"The econometrics of financial markets\" Campbell, Lo and Mackinlay.\n",
    "    \"\"\"\n",
    "    w = inverse(sigma).dot(mu)\n",
    "    if scale:\n",
    "        w = w/sum(w) # fix: this assumes all w is +ve\n",
    "    return w"
   ]
  },
  {
   "cell_type": "code",
   "execution_count": 9,
   "id": "a078b3a2",
   "metadata": {},
   "outputs": [
    {
     "data": {
      "text/plain": [
       "INTC     3.41\n",
       "PFE     96.59\n",
       "dtype: float64"
      ]
     },
     "execution_count": 9,
     "metadata": {},
     "output_type": "execute_result"
    }
   ],
   "source": [
    "mu_exp = pd.Series([.02, .04],index=tickers) # INTC and PFE\n",
    "np.round(w_msr(s, mu_exp)*100, 2)"
   ]
  },
  {
   "cell_type": "markdown",
   "id": "69781900",
   "metadata": {},
   "source": [
    "Ecco che la procedura crea dei pesi non realistici con un 96% investito in Pfizer e nebi del 4\\% in Intel. Questa è una soluzione non praticabile e nessun investore farebbe una scommessa così drammatica.\n",
    "\n",
    "In contrasto a questi valori usiamo la procedura di Black Litterman calcolando automaticamente $\\Omega$, attraverso questa procedura otteniamo i nuovi rendimenti attesi mescolando i rendimenti impliciti e le viste dell'investirore"
   ]
  },
  {
   "cell_type": "code",
   "execution_count": 10,
   "id": "b0c92211",
   "metadata": {},
   "outputs": [
    {
     "data": {
      "text/plain": [
       "INTC    0.037622\n",
       "PFE     0.024111\n",
       "dtype: float64"
      ]
     },
     "execution_count": 10,
     "metadata": {},
     "output_type": "execute_result"
    }
   ],
   "source": [
    "# Absolute view 1: INTC will return 2%\n",
    "# Absolute view 2: PFE will return 4%\n",
    "q = pd.Series({'INTC': 0.02, 'PFE': 0.04})\n",
    "\n",
    "# The Pick Matrix\n",
    "# For View 2, it is for PFE\n",
    "p = pd.DataFrame([\n",
    "# For View 1, this is for INTC\n",
    "    {'INTC': 1, 'PFE': 0},\n",
    "# For View 2, it is for PFE\n",
    "    {'INTC': 0, 'PFE': 1}\n",
    "    ])\n",
    "\n",
    "# Find the Black Litterman Expected Returns\n",
    "bl_mu, bl_sigma = bl(w_prior=pd.Series({'INTC':.44, 'PFE':.56}), sigma_prior=s, p=p, q=q)\n",
    "# Black Litterman Implied Mu\n",
    "bl_mu\n"
   ]
  },
  {
   "cell_type": "markdown",
   "id": "eb2f26bb",
   "metadata": {},
   "source": [
    "la domanda ora è questi valori portano a portafogli più realistici? per rispondere a questa domanda passiamo all'ottimizzatore i rendimenti attesi e la matrice di covarianza."
   ]
  },
  {
   "cell_type": "code",
   "execution_count": 11,
   "id": "33fe91e6",
   "metadata": {},
   "outputs": [
    {
     "data": {
      "text/plain": [
       "INTC    0.140692\n",
       "PFE     0.859308\n",
       "dtype: float64"
      ]
     },
     "execution_count": 11,
     "metadata": {},
     "output_type": "execute_result"
    }
   ],
   "source": [
    "# Use the Black Litterman expected returns to get the Optimal Markowitz weights\n",
    "w_msr(bl_sigma, bl_mu)"
   ]
  },
  {
   "cell_type": "markdown",
   "id": "99e1934f",
   "metadata": {},
   "source": [
    "Vediamo che i pesi sono più ragionati e vicini al punto di partenza 45/55.\n",
    "\n",
    "### Un altro esempio una vista relativa\n",
    "\n",
    "In questa parte esaminiamo le viste relative. Tenaimo sempre il nostro portafoglio con i rendimenti impliciti"
   ]
  },
  {
   "cell_type": "code",
   "execution_count": 12,
   "id": "0b8ca1f0",
   "metadata": {},
   "outputs": [
    {
     "data": {
      "text/plain": [
       "INTC    0.052084\n",
       "PFE     0.008628\n",
       "Name: Implied Returns, dtype: float64"
      ]
     },
     "execution_count": 12,
     "metadata": {},
     "output_type": "execute_result"
    }
   ],
   "source": [
    "# Expected returns inferred from the cap-weights\n",
    "pi\n"
   ]
  },
  {
   "cell_type": "markdown",
   "id": "ebb1a76a",
   "metadata": {},
   "source": [
    "assumiamo ora che Intel supererà Pfizer  di un 2%, la vista implementata ora sarà:"
   ]
  },
  {
   "cell_type": "code",
   "execution_count": 13,
   "id": "b35bb8eb",
   "metadata": {},
   "outputs": [
    {
     "data": {
      "text/plain": [
       "INTC    0.041374\n",
       "PFE     0.009646\n",
       "dtype: float64"
      ]
     },
     "execution_count": 13,
     "metadata": {},
     "output_type": "execute_result"
    }
   ],
   "source": [
    "q = pd.Series([\n",
    "# Relative View 1: INTC will outperform PFE by 2%\n",
    "  0.02\n",
    "    ]\n",
    ")\n",
    "# The Pick Matrix\n",
    "p = pd.DataFrame([\n",
    "  # For View 1, this is for INTC outperforming PFE\n",
    "  {'INTC': +1, 'PFE': -1}\n",
    "])\n",
    "\n",
    "# Find the Black Litterman Expected Returns\n",
    "bl_mu, bl_sigma = bl(w_prior=pd.Series({'INTC': .44, 'PFE': .56}), sigma_prior=s, p=p, q=q)\n",
    "# Black Litterman Implied Mu\n",
    "bl_mu"
   ]
  },
  {
   "cell_type": "markdown",
   "id": "f8832629",
   "metadata": {},
   "source": [
    "Ancora una volta vediamo che i rendimenti a posteriori sono un mix tra i rendimenti impliciti e le viste degli investitori. La sovraperfomance di Intel nei rendimenti impliciti è:"
   ]
  },
  {
   "cell_type": "code",
   "execution_count": 14,
   "id": "b67fe176",
   "metadata": {},
   "outputs": [
    {
     "data": {
      "text/plain": [
       "0.043456"
      ]
     },
     "execution_count": 14,
     "metadata": {},
     "output_type": "execute_result"
    }
   ],
   "source": [
    "pi[0]-pi[1]"
   ]
  },
  {
   "cell_type": "markdown",
   "id": "26459b8a",
   "metadata": {},
   "source": [
    "Al contrario l'investitore riteneva che sarebbe stato solo del 2% la procedura ha miscelato la vista del mercato e l'opinione dell'investore"
   ]
  },
  {
   "cell_type": "code",
   "execution_count": 15,
   "id": "cfc7e893",
   "metadata": {},
   "outputs": [
    {
     "data": {
      "text/plain": [
       "0.031728"
      ]
     },
     "execution_count": 15,
     "metadata": {},
     "output_type": "execute_result"
    }
   ],
   "source": [
    "bl_mu[0]-bl_mu[1]"
   ]
  },
  {
   "cell_type": "code",
   "execution_count": 16,
   "id": "01017402",
   "metadata": {},
   "outputs": [
    {
     "data": {
      "text/plain": [
       "INTC    0.347223\n",
       "PFE     0.652777\n",
       "dtype: float64"
      ]
     },
     "execution_count": 16,
     "metadata": {},
     "output_type": "execute_result"
    }
   ],
   "source": [
    "# Use the Black Litterman expected returns and covariance matrix\n",
    "w_msr(bl_sigma, bl_mu)"
   ]
  },
  {
   "cell_type": "markdown",
   "id": "dc70a511",
   "metadata": {},
   "source": [
    "Questi sembrano ei pesi più che ragionabili e dimostrano la potenza di usare una procedura di Black Litterman. In contrasto se avessimo considerato la stessa cosa senza questo metodo avremmo ottenuto:\n",
    "\n"
   ]
  },
  {
   "cell_type": "code",
   "execution_count": 17,
   "id": "459af83d",
   "metadata": {},
   "outputs": [
    {
     "data": {
      "text/plain": [
       "INTC    0.258528\n",
       "PFE     0.741472\n",
       "dtype: float64"
      ]
     },
     "execution_count": 17,
     "metadata": {},
     "output_type": "execute_result"
    }
   ],
   "source": [
    "w_msr(s, [.03, .01])"
   ]
  },
  {
   "cell_type": "markdown",
   "id": "a2bdafc5",
   "metadata": {},
   "source": [
    "Questi pesi non sono giustificati data la visione debole in fatti se avessimo impostato dei valori con 2\\% e 0\\% i risultati sarebbero stati più estremi.\n",
    "\n"
   ]
  },
  {
   "cell_type": "code",
   "execution_count": 18,
   "id": "5100fe13",
   "metadata": {},
   "outputs": [
    {
     "data": {
      "text/plain": [
       "INTC    1.248244\n",
       "PFE    -0.248244\n",
       "dtype: float64"
      ]
     },
     "execution_count": 18,
     "metadata": {},
     "output_type": "execute_result"
    }
   ],
   "source": [
    "w_msr(s, [.02, .0])"
   ]
  },
  {
   "cell_type": "markdown",
   "id": "5ef1018b",
   "metadata": {},
   "source": [
    "## Riprodurre i risultati He-Litterman\n",
    "\n",
    "Siamo pronti per riprodurre i risultati del paper originale He-Litterman, il documento originale coinvolgeva l'allocazione tra 7 nazioni."
   ]
  },
  {
   "cell_type": "code",
   "execution_count": 19,
   "id": "fb8c3d8a",
   "metadata": {},
   "outputs": [
    {
     "data": {
      "text/plain": [
       "AU    3.9\n",
       "CA    6.9\n",
       "FR    8.4\n",
       "DE    9.0\n",
       "JP    4.3\n",
       "UK    6.8\n",
       "US    7.6\n",
       "Name: Implied Returns, dtype: float64"
      ]
     },
     "execution_count": 19,
     "metadata": {},
     "output_type": "execute_result"
    }
   ],
   "source": [
    "# The 7 countries ...\n",
    "countries  = ['AU', 'CA', 'FR', 'DE', 'JP', 'UK', 'US'] \n",
    "# Table 1 of the He-Litterman paper\n",
    "# Correlation Matrix\n",
    "rho = pd.DataFrame([\n",
    "    [1.000,0.488,0.478,0.515,0.439,0.512,0.491],\n",
    "    [0.488,1.000,0.664,0.655,0.310,0.608,0.779],\n",
    "    [0.478,0.664,1.000,0.861,0.355,0.783,0.668],\n",
    "    [0.515,0.655,0.861,1.000,0.354,0.777,0.653],\n",
    "    [0.439,0.310,0.355,0.354,1.000,0.405,0.306],\n",
    "    [0.512,0.608,0.783,0.777,0.405,1.000,0.652],\n",
    "    [0.491,0.779,0.668,0.653,0.306,0.652,1.000]\n",
    "], index=countries, columns=countries)\n",
    "\n",
    "# Table 2 of the He-Litterman paper: volatilities\n",
    "vols = pd.DataFrame([0.160,0.203,0.248,0.271,0.210,0.200,0.187],index=countries, columns=[\"vol\"]) \n",
    "# Table 2 of the He-Litterman paper: cap-weights\n",
    "w_eq = pd.DataFrame([0.016,0.022,0.052,0.055,0.116,0.124,0.615], index=countries, columns=[\"CapWeight\"])\n",
    "# Compute the Covariance Matrix\n",
    "sigma_prior = vols.dot(vols.T) * rho\n",
    "# Compute Pi and compare:\n",
    "pi = implied_returns(delta=2.5, sigma=sigma_prior, w=w_eq)\n",
    "(pi*100).round(1)"
   ]
  },
  {
   "cell_type": "markdown",
   "id": "5b14cb42",
   "metadata": {},
   "source": [
    "#### Vista 1: Germania contro il resto europa\n",
    "\n",
    "Ora, imponiamo la nostra opinione che le azioni tedesche sovraperformeranno del 5% il resto delle azioni Europee.\n",
    "Nella nostra tabella sono Francia e Regno Unito. Dividiamo che le sovraperformance sia proporzionale alla capitalizzazione di Mercato per Francia e Regno Unito."
   ]
  },
  {
   "cell_type": "code",
   "execution_count": 20,
   "id": "9d745c3a",
   "metadata": {},
   "outputs": [
    {
     "name": "stderr",
     "output_type": "stream",
     "text": [
      "C:\\Users\\DalFornoF\\AppData\\Local\\Temp\\ipykernel_3444\\3239996646.py:11: FutureWarning: Calling float on a single element Series is deprecated and will raise a TypeError in the future. Use float(ser.iloc[0]) instead\n",
      "  p.iloc[0]['FR'] = -w_fr\n",
      "C:\\Users\\DalFornoF\\AppData\\Local\\Temp\\ipykernel_3444\\3239996646.py:12: FutureWarning: Calling float on a single element Series is deprecated and will raise a TypeError in the future. Use float(ser.iloc[0]) instead\n",
      "  p.iloc[0]['UK'] = -w_uk\n"
     ]
    },
    {
     "data": {
      "text/html": [
       "<div>\n",
       "<style scoped>\n",
       "    .dataframe tbody tr th:only-of-type {\n",
       "        vertical-align: middle;\n",
       "    }\n",
       "\n",
       "    .dataframe tbody tr th {\n",
       "        vertical-align: top;\n",
       "    }\n",
       "\n",
       "    .dataframe thead th {\n",
       "        text-align: right;\n",
       "    }\n",
       "</style>\n",
       "<table border=\"1\" class=\"dataframe\">\n",
       "  <thead>\n",
       "    <tr style=\"text-align: right;\">\n",
       "      <th></th>\n",
       "      <th>AU</th>\n",
       "      <th>CA</th>\n",
       "      <th>FR</th>\n",
       "      <th>DE</th>\n",
       "      <th>JP</th>\n",
       "      <th>UK</th>\n",
       "      <th>US</th>\n",
       "    </tr>\n",
       "  </thead>\n",
       "  <tbody>\n",
       "    <tr>\n",
       "      <th>0</th>\n",
       "      <td>0.0</td>\n",
       "      <td>0.0</td>\n",
       "      <td>-29.5</td>\n",
       "      <td>100.0</td>\n",
       "      <td>0.0</td>\n",
       "      <td>-70.5</td>\n",
       "      <td>0.0</td>\n",
       "    </tr>\n",
       "  </tbody>\n",
       "</table>\n",
       "</div>"
      ],
      "text/plain": [
       "    AU   CA    FR     DE   JP    UK   US\n",
       "0  0.0  0.0 -29.5  100.0  0.0 -70.5  0.0"
      ]
     },
     "execution_count": 20,
     "metadata": {},
     "output_type": "execute_result"
    }
   ],
   "source": [
    "# Germany will outperform other European Equities (i.e. FR and UK) by 5%\n",
    "q = pd.Series([.05]) # just one view\n",
    "# start with a single view, all zeros and overwrite the specific view\n",
    "p = pd.DataFrame([0.]*len(countries), index=countries).T\n",
    "# find the relative market caps of FR and UK to split the\n",
    "# relative outperformance of DE ...\n",
    "w_fr =  w_eq.loc[\"FR\"]/(w_eq.loc[\"FR\"]+w_eq.loc[\"UK\"]).values\n",
    "w_uk =  w_eq.loc[\"UK\"]/(w_eq.loc[\"FR\"]+w_eq.loc[\"UK\"]).values\n",
    "\n",
    "p.iloc[0]['DE'] = 1.\n",
    "p.iloc[0]['FR'] = -w_fr\n",
    "p.iloc[0]['UK'] = -w_uk\n",
    "(p*100).round(1)"
   ]
  },
  {
   "cell_type": "markdown",
   "id": "796dad2d",
   "metadata": {},
   "source": [
    "Il risultato della implementazione $\\mu^{BL}$"
   ]
  },
  {
   "cell_type": "code",
   "execution_count": 21,
   "id": "6d0b3cba",
   "metadata": {},
   "outputs": [
    {
     "data": {
      "text/plain": [
       "AU     4.3\n",
       "CA     7.6\n",
       "FR     9.3\n",
       "DE    11.0\n",
       "JP     4.5\n",
       "UK     7.0\n",
       "US     8.1\n",
       "dtype: float64"
      ]
     },
     "execution_count": 21,
     "metadata": {},
     "output_type": "execute_result"
    }
   ],
   "source": [
    "delta = 2.5\n",
    "tau = 0.05 # from Footnote 8\n",
    "# Find the Black Litterman Expected Returns\n",
    "bl_mu, bl_sigma = bl(w_eq, sigma_prior, p, q, tau = tau)\n",
    "(bl_mu*100).round(1)"
   ]
  },
  {
   "cell_type": "markdown",
   "id": "a90babf6",
   "metadata": {},
   "source": [
    "Il documento prosegue con il calcolo del portafoglio ottimale $w^*$"
   ]
  },
  {
   "cell_type": "code",
   "execution_count": 22,
   "id": "fa2f1e54",
   "metadata": {},
   "outputs": [
    {
     "data": {
      "text/plain": [
       "AU     1.5\n",
       "CA     2.1\n",
       "FR    -4.0\n",
       "DE    35.4\n",
       "JP    11.0\n",
       "UK    -9.5\n",
       "US    58.6\n",
       "dtype: float64"
      ]
     },
     "execution_count": 22,
     "metadata": {},
     "output_type": "execute_result"
    }
   ],
   "source": [
    "def w_star(delta, sigma, mu):\n",
    "    return (inverse(sigma).dot(mu))/delta\n",
    "\n",
    "wstar = w_star(delta=2.5, sigma=bl_sigma, mu=bl_mu)\n",
    "# display w*\n",
    "(wstar*100).round(1)"
   ]
  },
  {
   "cell_type": "markdown",
   "id": "a13e5ad6",
   "metadata": {},
   "source": [
    "Calcoliamo infine  $w^* - \\frac{w_{eq}}{1+\\tau}$ che rappresenta la differenza dei pesi tra il portafoglio ottimale e il portafolgio in equilibrio"
   ]
  },
  {
   "cell_type": "code",
   "execution_count": 23,
   "id": "992f5eba",
   "metadata": {},
   "outputs": [
    {
     "data": {
      "text/plain": [
       "AU     0.0\n",
       "CA    -0.0\n",
       "FR    -8.9\n",
       "DE    30.2\n",
       "JP     0.0\n",
       "UK   -21.3\n",
       "US     0.0\n",
       "dtype: float64"
      ]
     },
     "execution_count": 23,
     "metadata": {},
     "output_type": "execute_result"
    }
   ],
   "source": [
    "w_eq  = w_msr(delta*sigma_prior, pi, scale=False)\n",
    "# Display the difference in Posterior and Prior weights\n",
    "np.round(wstar - w_eq/(1+tau), 3)*100"
   ]
  },
  {
   "cell_type": "markdown",
   "id": "bf48c56a",
   "metadata": {},
   "source": [
    "### Seconda View Canada contro Stati Uniti\n",
    "\n",
    "Nel secondo caso ipotizziamo che le azioni Canadesi sovraperformeranno quelle statunitensi del 3%."
   ]
  },
  {
   "cell_type": "code",
   "execution_count": 24,
   "id": "f11b7747",
   "metadata": {},
   "outputs": [
    {
     "data": {
      "text/html": [
       "<div>\n",
       "<style scoped>\n",
       "    .dataframe tbody tr th:only-of-type {\n",
       "        vertical-align: middle;\n",
       "    }\n",
       "\n",
       "    .dataframe tbody tr th {\n",
       "        vertical-align: top;\n",
       "    }\n",
       "\n",
       "    .dataframe thead th {\n",
       "        text-align: right;\n",
       "    }\n",
       "</style>\n",
       "<table border=\"1\" class=\"dataframe\">\n",
       "  <thead>\n",
       "    <tr style=\"text-align: right;\">\n",
       "      <th></th>\n",
       "      <th>0</th>\n",
       "      <th>1</th>\n",
       "    </tr>\n",
       "  </thead>\n",
       "  <tbody>\n",
       "    <tr>\n",
       "      <th>AU</th>\n",
       "      <td>0.0</td>\n",
       "      <td>0.0</td>\n",
       "    </tr>\n",
       "    <tr>\n",
       "      <th>CA</th>\n",
       "      <td>0.0</td>\n",
       "      <td>100.0</td>\n",
       "    </tr>\n",
       "    <tr>\n",
       "      <th>FR</th>\n",
       "      <td>-29.5</td>\n",
       "      <td>0.0</td>\n",
       "    </tr>\n",
       "    <tr>\n",
       "      <th>DE</th>\n",
       "      <td>100.0</td>\n",
       "      <td>0.0</td>\n",
       "    </tr>\n",
       "    <tr>\n",
       "      <th>JP</th>\n",
       "      <td>0.0</td>\n",
       "      <td>0.0</td>\n",
       "    </tr>\n",
       "    <tr>\n",
       "      <th>UK</th>\n",
       "      <td>-70.5</td>\n",
       "      <td>0.0</td>\n",
       "    </tr>\n",
       "    <tr>\n",
       "      <th>US</th>\n",
       "      <td>0.0</td>\n",
       "      <td>-100.0</td>\n",
       "    </tr>\n",
       "  </tbody>\n",
       "</table>\n",
       "</div>"
      ],
      "text/plain": [
       "        0      1\n",
       "AU    0.0    0.0\n",
       "CA    0.0  100.0\n",
       "FR  -29.5    0.0\n",
       "DE  100.0    0.0\n",
       "JP    0.0    0.0\n",
       "UK  -70.5    0.0\n",
       "US    0.0 -100.0"
      ]
     },
     "execution_count": 24,
     "metadata": {},
     "output_type": "execute_result"
    }
   ],
   "source": [
    "view2 = pd.Series([.03], index=[1])\n",
    "q = q._append(view2)\n",
    "pick2 = pd.DataFrame([0.]*len(countries), index=countries, columns=[1]).T\n",
    "p = p._append(pick2)\n",
    "p.iloc[1]['CA']=+1\n",
    "p.iloc[1]['US']=-1\n",
    "np.round(p.T, 3)*100"
   ]
  },
  {
   "cell_type": "markdown",
   "id": "2600eab6",
   "metadata": {},
   "source": [
    "Calcoliamo ora i pesi del portafoglio "
   ]
  },
  {
   "cell_type": "code",
   "execution_count": 25,
   "id": "b63bfc4b",
   "metadata": {},
   "outputs": [
    {
     "data": {
      "text/plain": [
       "AU     4.4\n",
       "CA     8.7\n",
       "FR     9.5\n",
       "DE    11.2\n",
       "JP     4.6\n",
       "UK     7.0\n",
       "US     7.5\n",
       "dtype: float64"
      ]
     },
     "execution_count": 25,
     "metadata": {},
     "output_type": "execute_result"
    }
   ],
   "source": [
    "bl_mu, bl_sigma = bl(w_eq, sigma_prior, p, q, tau = tau)\n",
    "np.round(bl_mu*100, 1)"
   ]
  },
  {
   "cell_type": "markdown",
   "id": "fd277871",
   "metadata": {},
   "source": [
    "Come nel caso precedente calcoliamo  $w^* - \\frac{w_{eq}}{1+\\tau}$ "
   ]
  },
  {
   "cell_type": "code",
   "execution_count": 26,
   "id": "14ae361d",
   "metadata": {},
   "outputs": [
    {
     "data": {
      "text/plain": [
       "AU     0.0\n",
       "CA    -0.0\n",
       "FR    -8.9\n",
       "DE    30.2\n",
       "JP     0.0\n",
       "UK   -21.3\n",
       "US     0.0\n",
       "dtype: float64"
      ]
     },
     "execution_count": 26,
     "metadata": {},
     "output_type": "execute_result"
    }
   ],
   "source": [
    "w_eq  = w_msr(delta*sigma_prior, pi, scale=False)\n",
    "# Display the difference in Posterior and Prior weights\n",
    "np.round(wstar - w_eq/(1+tau), 3)*100"
   ]
  },
  {
   "cell_type": "code",
   "execution_count": null,
   "id": "25b08c37",
   "metadata": {},
   "outputs": [],
   "source": []
  }
 ],
 "metadata": {
  "kernelspec": {
   "display_name": "Python 3 (ipykernel)",
   "language": "python",
   "name": "python3"
  },
  "language_info": {
   "codemirror_mode": {
    "name": "ipython",
    "version": 3
   },
   "file_extension": ".py",
   "mimetype": "text/x-python",
   "name": "python",
   "nbconvert_exporter": "python",
   "pygments_lexer": "ipython3",
   "version": "3.11.5"
  }
 },
 "nbformat": 4,
 "nbformat_minor": 5
}
