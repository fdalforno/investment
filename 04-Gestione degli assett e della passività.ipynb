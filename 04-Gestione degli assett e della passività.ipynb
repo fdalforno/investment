{
 "cells": [
  {
   "cell_type": "markdown",
   "id": "56561cd6",
   "metadata": {},
   "source": [
    "# Asset e passività\n",
    "\n",
    "All'inizio del 2000 abbiamo avuto una crisi dei fondi pensione. Da dicembre 1999 a maggio 2003 siamo passati da una attivo di 239 miliardi a un passivo di 252 miliardi con una spaventosa perdita di circa 500 miliardi.\n",
    "\n",
    "Cosa è successo all'inizio del 2000 abbiamo avuto una bolla sul settore tecnologico con una forte contrazione sul mercato azionario, questo ha fatto ridurre gli attivi dei fondi pensionistici che investivano almeno una parte in azionariato.\n",
    "\n",
    "Ora se fosse stato solo per il mercato azionario questa cosa sarebbe stata brutta, ma la situazione è passata da brutta a spaventosa.\n",
    "Il taglio dei tassi di interesse ha fatto abbassare anche i rendimenti delle obbligazioni con il conseguente aumento dei debiti di questi fondi.\n",
    "\n",
    "La passività di un fondo pensione è simile ad un fondo obbligazionario (il fondo pensione si impegna a restituire il capitale investito più una certa quota di interessi fissi). dunque il taglio dei tassi di interesse ha fatto si che che la passività di questi fondi aumentasse, questa è stata una grave falla nella gestione del rischio. Stessa cosa è accaduta nel 2008.\n",
    "\n",
    "Concludendo nella gestione patrimoniale ciò che conta è la gestione dell'attivo $A_t$ rispetto al debito $P_t$.\n",
    "\n",
    "$$\n",
    "F_t = \\frac{A_t}{P_t}\n",
    "$$\n",
    "\n",
    "Definiamo come surplus o deficit\n",
    "\n",
    "$$\n",
    "S_t = A_t - P_t\n",
    "$$\n",
    "\n",
    "Se il valore $F_t$ è maggiore di 100 saremo sicuramente capaci di tener testa ai nostri impegni.\n",
    "\n",
    "## Valore attuale della passività\n",
    "\n",
    "Cominciamo con l'esaminare il valore delle passività future per farlo dobbiamo attualizzare il valore futuro, chiameremo questo valore **Present Value** facciamo un esempio pratico.\n",
    "\n",
    "Supponiamo di dover pagare fra 5 anni $n$ una somma di 1000€ $FV$, diamo come tasso di interesse il 3% $r$ quanto dovrei avere a disposizione ora?\n",
    "\n",
    "$$\n",
    "PV = \\frac{FV}{(1+r)^n}\n",
    "$$\n",
    "\n",
    "Che a conti fatti danno un present value di circa 863€\n",
    "Ovviamente i tassi di interessi cambiano nel tempo perciò il calcolo della nostra passività sarà di \n",
    "\n",
    "$$\n",
    "PV(L) = \\sum_{i=1}^{k} B(t_i) L_i\n",
    "$$\n",
    "\n",
    "Il valore $B(t_i)$ rappresenta il valore delle obbligazioni scontate che valgono un euro al tempo $t_i$, se assumiamo che la curva dei rendimenti è piatta e il tasso di interesse è $r$ avremo che\n",
    "\n",
    "$$\n",
    "B(t_i) = \\frac{1}{(1+r)^t}\n",
    "$$\n",
    "\n",
    "iniziamo con l'importazione delle librerie e la scrittura della funzione B"
   ]
  },
  {
   "cell_type": "code",
   "execution_count": 1,
   "id": "e30361b0",
   "metadata": {},
   "outputs": [],
   "source": [
    "import numpy as np\n",
    "import pandas as pd\n",
    "\n",
    "%load_ext autoreload\n",
    "%autoreload 2"
   ]
  },
  {
   "cell_type": "code",
   "execution_count": 2,
   "id": "3798e872",
   "metadata": {},
   "outputs": [],
   "source": [
    "def discount(t, r):\n",
    "    \"\"\"\n",
    "    Compute the price of a pure discount bond that pays $1 at time t where t is in years and r is the annual interest rate\n",
    "    \"\"\"\n",
    "    return (1+r)**(-t)"
   ]
  },
  {
   "cell_type": "markdown",
   "id": "c76105e4",
   "metadata": {},
   "source": [
    "Calcoliamo ora il prezzo scontato di un euro di una obbligazione a 10 anni con un tasso di interesse al 3%"
   ]
  },
  {
   "cell_type": "code",
   "execution_count": 3,
   "id": "7491f489",
   "metadata": {},
   "outputs": [
    {
     "data": {
      "text/plain": [
       "0.7440939148967249"
      ]
     },
     "execution_count": 3,
     "metadata": {},
     "output_type": "execute_result"
    }
   ],
   "source": [
    "b = discount(10, .03)\n",
    "b"
   ]
  },
  {
   "cell_type": "markdown",
   "id": "87a77657",
   "metadata": {},
   "source": [
    "Verifichiamo che il codice sia corretto"
   ]
  },
  {
   "cell_type": "code",
   "execution_count": 4,
   "id": "5c5faacc",
   "metadata": {},
   "outputs": [
    {
     "data": {
      "text/plain": [
       "1.0"
      ]
     },
     "execution_count": 4,
     "metadata": {},
     "output_type": "execute_result"
    }
   ],
   "source": [
    "b*(1.03**10)"
   ]
  },
  {
   "cell_type": "markdown",
   "id": "1da0e318",
   "metadata": {},
   "source": [
    "Abbiamo quello che ci serve possiamo scrivere anche la funzione $PV$"
   ]
  },
  {
   "cell_type": "code",
   "execution_count": 5,
   "id": "a98cd4a4",
   "metadata": {},
   "outputs": [],
   "source": [
    "def pv(l, r):\n",
    "    \"\"\"\n",
    "    Compute the present value of a list of liabilities given by the time (as an index) and amounts\n",
    "    \"\"\"\n",
    "    dates = l.index\n",
    "    discounts = discount(dates, r)\n",
    "    return (discounts*l).sum()"
   ]
  },
  {
   "cell_type": "markdown",
   "id": "2996aa45",
   "metadata": {},
   "source": [
    "Assumiamo ora di avere 4 debiti di 1,1.5,2 e 2.5 Milioni di euro. Assumiamo che il primo sia a scadenza di 3 anni e gli altri siano a scadenze di 6 mesi a incrementare. Calcoliamo il valore attualizzato dei debiti."
   ]
  },
  {
   "cell_type": "code",
   "execution_count": 6,
   "id": "6fa0695d",
   "metadata": {},
   "outputs": [],
   "source": [
    "liabilities = pd.Series(data=[1, 1.5, 2, 2.5], index=[3, 3.5, 4, 4.5])"
   ]
  },
  {
   "cell_type": "code",
   "execution_count": 7,
   "id": "98531143",
   "metadata": {},
   "outputs": [
    {
     "data": {
      "text/plain": [
       "6.233320315080045"
      ]
     },
     "execution_count": 7,
     "metadata": {},
     "output_type": "execute_result"
    }
   ],
   "source": [
    "pv(liabilities, 0.03)"
   ]
  },
  {
   "cell_type": "markdown",
   "id": "066667ee",
   "metadata": {},
   "source": [
    "Ora assumiamo di calcolare il rapporto di copertura dei finanziamenti **Founding ratio** basandosi sul valore corrente degli attivi:"
   ]
  },
  {
   "cell_type": "code",
   "execution_count": 8,
   "id": "dd06eca8",
   "metadata": {},
   "outputs": [],
   "source": [
    "def funding_ratio(assets, liabilities, r):\n",
    "    \"\"\"\n",
    "    Computes the funding ratio of a series of liabilities, based on an interest rate and current value of assets\n",
    "    \"\"\"\n",
    "    return assets/pv(liabilities, r)"
   ]
  },
  {
   "cell_type": "code",
   "execution_count": 9,
   "id": "a4502cd9",
   "metadata": {},
   "outputs": [
    {
     "data": {
      "text/plain": [
       "0.8021407126958777"
      ]
     },
     "execution_count": 9,
     "metadata": {},
     "output_type": "execute_result"
    }
   ],
   "source": [
    "funding_ratio(5, liabilities, 0.03)"
   ]
  },
  {
   "cell_type": "markdown",
   "id": "5a54e3c1",
   "metadata": {},
   "source": [
    "abbassiamo il tasso di interessa dal 3% al 2%"
   ]
  },
  {
   "cell_type": "code",
   "execution_count": 10,
   "id": "137dd79b",
   "metadata": {},
   "outputs": [
    {
     "data": {
      "text/plain": [
       "0.7720304366941648"
      ]
     },
     "execution_count": 10,
     "metadata": {},
     "output_type": "execute_result"
    }
   ],
   "source": [
    "funding_ratio(5, liabilities, 0.02)"
   ]
  },
  {
   "cell_type": "code",
   "execution_count": 11,
   "id": "89c7160c",
   "metadata": {},
   "outputs": [
    {
     "data": {
      "application/vnd.jupyter.widget-view+json": {
       "model_id": "ba42132e1308435a9b77ad695e8f22e3",
       "version_major": 2,
       "version_minor": 0
      },
      "text/plain": [
       "interactive(children=(IntSlider(value=5, description='assets', max=10, min=1), FloatSlider(value=0.1, descript…"
      ]
     },
     "metadata": {},
     "output_type": "display_data"
    }
   ],
   "source": [
    "import ipywidgets as widgets\n",
    "from IPython.display import display\n",
    "%matplotlib inline\n",
    "\n",
    "def show_funding_ratio(assets, r):\n",
    "    fr = funding_ratio(assets, liabilities, r)\n",
    "    print(f'{fr*100:.2f}%')\n",
    "    \n",
    "controls = widgets.interactive(show_funding_ratio,\n",
    "                                   assets=widgets.IntSlider(min=1, max=10, step=1, value=5),\n",
    "                                   r=(0, .20, .01)\n",
    ")\n",
    "display(controls)"
   ]
  },
  {
   "cell_type": "code",
   "execution_count": null,
   "id": "8a971c24",
   "metadata": {},
   "outputs": [],
   "source": []
  }
 ],
 "metadata": {
  "kernelspec": {
   "display_name": "Python 3 (ipykernel)",
   "language": "python",
   "name": "python3"
  },
  "language_info": {
   "codemirror_mode": {
    "name": "ipython",
    "version": 3
   },
   "file_extension": ".py",
   "mimetype": "text/x-python",
   "name": "python",
   "nbconvert_exporter": "python",
   "pygments_lexer": "ipython3",
   "version": "3.11.5"
  }
 },
 "nbformat": 4,
 "nbformat_minor": 5
}
