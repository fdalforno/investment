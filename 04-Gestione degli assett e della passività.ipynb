{
 "cells": [
  {
   "cell_type": "markdown",
   "id": "56561cd6",
   "metadata": {},
   "source": [
    "# Asset e passività\n",
    "\n",
    "All'inizio del 2000 abbiamo avuto una crisi dei fondi pensione. Da dicembre 1999 a maggio 2003 siamo passati da una attivo di 239 miliardi a un passivo di 252 miliardi con una spaventosa perdita di circa 500 miliardi.\n",
    "\n",
    "Cosa è successo? All'inizio del 2000 abbiamo avuto una bolla sul settore tecnologico con una forte contrazione sul mercato azionario, questo ha fatto ridurre gli attivi dei fondi pensionistici che investivano almeno una parte in azionariato.\n",
    "\n",
    "Ora se fosse stato solo per il mercato azionario questa cosa sarebbe stata brutta, ma la situazione è passata da brutta a spaventosa.\n",
    "Il taglio dei tassi di interesse ha fatto abbassare anche i rendimenti delle obbligazioni con il conseguente aumento dei debiti di questi fondi.\n",
    "\n",
    "La gestione di un fondo pensione è simile ad un fondo obbligazionario (il fondo pensione si impegna a restituire il capitale investito più una certa quota di interessi fissi). dunque il taglio dei tassi di interesse ha fatto si che che la passività di questi fondi aumentasse, questa è stata una grave falla nella gestione del rischio. \n",
    "\n",
    "Stessa cosa è accaduta nel 2008.\n",
    "\n",
    "Concludendo nella gestione patrimoniale ciò che conta è la gestione dell'attivo $A_t$ rispetto al debito $P_t$.\n",
    "\n",
    "$$\n",
    "F_t = \\frac{A_t}{P_t}\n",
    "$$\n",
    "\n",
    "Definiamo come surplus o deficit\n",
    "\n",
    "$$\n",
    "S_t = A_t - P_t\n",
    "$$\n",
    "\n",
    "Se il valore $F_t$ è maggiore di 100 saremo sicuramente capaci di tener testa ai nostri impegni.\n",
    "\n",
    "## Valore attuale della passività e rapporto di finanziamento\n",
    "\n",
    "Il nostro principale obiettivo futuro non è quello di aumentare il nostro portafoglio fino a renderlo il più grande possibile.\n",
    "L'obiettivo e quello di assicurarsi di avere soldi necessari al fine di soddisfare esigenze future.\n",
    "\n",
    "Cominciamo con l'esaminare il valore delle passività future per farlo dobbiamo attualizzare il valore futuro (scontarle), chiameremo questo valore **Present Value** facciamo un esempio pratico.\n",
    "\n",
    "Supponiamo di dover pagare fra 5 anni $n$ una somma di 1000€ impostiamola a $FV$, diamo come tasso di interesse il 3% $r$ quanto dovrei avere a disposizione ora?\n",
    "\n",
    "$$\n",
    "PV = \\frac{FV}{(1+r)^n}\n",
    "$$\n",
    "\n",
    "Che a conti fatti danno un present value di circa 863€.<br/>\n",
    "\n",
    "$$\n",
    "\\frac{1000}{(1+0.03)^5} = 862,60€\n",
    "$$\n",
    "\n",
    "Ovviamente i tassi di interessi cambiano nel tempo perciò il calcolo della nostra passività sarà di \n",
    "\n",
    "$$\n",
    "PV(L) = \\sum_{i=1}^{k} B(t_i) L_i\n",
    "$$\n",
    "\n",
    "Il valore $B(t_i)$ rappresenta il valore delle obbligazioni scontate che valgono un euro al tempo $t_i$, se assumiamo che la curva dei rendimenti è piatta (nessun cambiamento in corso) e il tasso di interesse è $r$ avremo che\n",
    "\n",
    "$$\n",
    "B(t_i) = \\frac{1}{(1+r)^t}\n",
    "$$\n",
    "\n",
    "iniziamo con l'importazione delle librerie e la scrittura della funzione B detto anche sconto"
   ]
  },
  {
   "cell_type": "code",
   "execution_count": 1,
   "id": "e30361b0",
   "metadata": {},
   "outputs": [],
   "source": [
    "import numpy as np\n",
    "import pandas as pd\n",
    "\n",
    "%load_ext autoreload\n",
    "%autoreload 2"
   ]
  },
  {
   "cell_type": "code",
   "execution_count": 2,
   "id": "3798e872",
   "metadata": {},
   "outputs": [],
   "source": [
    "def discount(t, r):\n",
    "    \"\"\"\n",
    "    Compute the price of a pure discount bond that pays $1 at time t where t is in years and r is the annual interest rate\n",
    "    \"\"\"\n",
    "    return (1+r)**(-t)"
   ]
  },
  {
   "cell_type": "markdown",
   "id": "c76105e4",
   "metadata": {},
   "source": [
    "Calcoliamo ora il prezzo scontato di un euro di una obbligazione a 10 anni con un tasso di interesse al 3%"
   ]
  },
  {
   "cell_type": "code",
   "execution_count": 3,
   "id": "7491f489",
   "metadata": {},
   "outputs": [
    {
     "data": {
      "text/plain": [
       "0.7440939148967249"
      ]
     },
     "execution_count": 3,
     "metadata": {},
     "output_type": "execute_result"
    }
   ],
   "source": [
    "b = discount(10, .03)\n",
    "b"
   ]
  },
  {
   "cell_type": "markdown",
   "id": "87a77657",
   "metadata": {},
   "source": [
    "Verifichiamo che il codice sia corretto"
   ]
  },
  {
   "cell_type": "code",
   "execution_count": 4,
   "id": "5c5faacc",
   "metadata": {},
   "outputs": [
    {
     "data": {
      "text/plain": [
       "1.0"
      ]
     },
     "execution_count": 4,
     "metadata": {},
     "output_type": "execute_result"
    }
   ],
   "source": [
    "b*(1.03**10)"
   ]
  },
  {
   "cell_type": "markdown",
   "id": "1da0e318",
   "metadata": {},
   "source": [
    "Abbiamo quello che ci serve possiamo scrivere anche la funzione $PV$"
   ]
  },
  {
   "cell_type": "code",
   "execution_count": 5,
   "id": "a98cd4a4",
   "metadata": {},
   "outputs": [],
   "source": [
    "def pv(l, r):\n",
    "    \"\"\"\n",
    "    Compute the present value of a list of liabilities given by the time (as an index) and amounts\n",
    "    \"\"\"\n",
    "    dates = l.index\n",
    "    discounts = discount(dates, r)\n",
    "    return (discounts*l).sum()"
   ]
  },
  {
   "cell_type": "markdown",
   "id": "2996aa45",
   "metadata": {},
   "source": [
    "Assumiamo ora di avere 4 debiti di 1, 1.5, 2 e 2.5 Milioni di euro.<br/>\n",
    "Assumiamo che il primo sia a scadenza di 3 anni e gli altri siano a scadenze di 6 mesi a incrementare.<br/>\n",
    "Calcoliamo il valore attualizzato dei debiti."
   ]
  },
  {
   "cell_type": "code",
   "execution_count": 6,
   "id": "6fa0695d",
   "metadata": {},
   "outputs": [],
   "source": [
    "liabilities = pd.Series(data=[1, 1.5, 2, 2.5], index=[3, 3.5, 4, 4.5])"
   ]
  },
  {
   "cell_type": "code",
   "execution_count": 8,
   "id": "7c06d324",
   "metadata": {},
   "outputs": [
    {
     "data": {
      "text/plain": [
       "7.0"
      ]
     },
     "execution_count": 8,
     "metadata": {},
     "output_type": "execute_result"
    }
   ],
   "source": [
    "liabilities.sum()"
   ]
  },
  {
   "cell_type": "code",
   "execution_count": 7,
   "id": "98531143",
   "metadata": {},
   "outputs": [
    {
     "data": {
      "text/plain": [
       "6.233320315080045"
      ]
     },
     "execution_count": 7,
     "metadata": {},
     "output_type": "execute_result"
    }
   ],
   "source": [
    "pv(liabilities, 0.03)"
   ]
  },
  {
   "cell_type": "markdown",
   "id": "066667ee",
   "metadata": {},
   "source": [
    "Ora assumiamo di calcolare il rapporto di copertura dei finanziamenti **Founding ratio** basandosi sul valore corrente degli attivi:"
   ]
  },
  {
   "cell_type": "code",
   "execution_count": 9,
   "id": "dd06eca8",
   "metadata": {},
   "outputs": [],
   "source": [
    "def funding_ratio(assets, liabilities, r):\n",
    "    \"\"\"\n",
    "    Computes the funding ratio of a series of liabilities, based on an interest rate and current value of assets\n",
    "    \"\"\"\n",
    "    return assets/pv(liabilities, r)"
   ]
  },
  {
   "cell_type": "markdown",
   "id": "93e78b41",
   "metadata": {},
   "source": [
    "Supponiamo che il valore in attivo sia pari a 5 e i tassi di interesse siano al 3% i nostro Founding ratio sarà pari a "
   ]
  },
  {
   "cell_type": "code",
   "execution_count": 10,
   "id": "a4502cd9",
   "metadata": {},
   "outputs": [
    {
     "data": {
      "text/plain": [
       "0.8021407126958777"
      ]
     },
     "execution_count": 10,
     "metadata": {},
     "output_type": "execute_result"
    }
   ],
   "source": [
    "funding_ratio(5, liabilities, 0.03)"
   ]
  },
  {
   "cell_type": "markdown",
   "id": "5a54e3c1",
   "metadata": {},
   "source": [
    "abbassiamo il tasso di interessa dal 3% al 2%"
   ]
  },
  {
   "cell_type": "code",
   "execution_count": 11,
   "id": "137dd79b",
   "metadata": {},
   "outputs": [
    {
     "data": {
      "text/plain": [
       "0.7720304366941648"
      ]
     },
     "execution_count": 11,
     "metadata": {},
     "output_type": "execute_result"
    }
   ],
   "source": [
    "funding_ratio(5, liabilities, 0.02)"
   ]
  },
  {
   "cell_type": "markdown",
   "id": "06c95a06",
   "metadata": {},
   "source": [
    "Vediamo che il Rounding ratio si abbassa dal 80% al 77% ora vediamo al variare dell'attivo e dei tassi di interesse come varia il rapporto"
   ]
  },
  {
   "cell_type": "code",
   "execution_count": 12,
   "id": "89c7160c",
   "metadata": {},
   "outputs": [
    {
     "data": {
      "application/vnd.jupyter.widget-view+json": {
       "model_id": "76e1ada367344338bd5e196333466249",
       "version_major": 2,
       "version_minor": 0
      },
      "text/plain": [
       "interactive(children=(IntSlider(value=5, description='assets', max=10, min=1), FloatSlider(value=0.1, descript…"
      ]
     },
     "metadata": {},
     "output_type": "display_data"
    }
   ],
   "source": [
    "import ipywidgets as widgets\n",
    "from IPython.display import display\n",
    "%matplotlib inline\n",
    "\n",
    "def show_funding_ratio(assets, r):\n",
    "    fr = funding_ratio(assets, liabilities, r)\n",
    "    print(f'{fr*100:.2f}%')\n",
    "    \n",
    "controls = widgets.interactive(show_funding_ratio,\n",
    "                                   assets=widgets.IntSlider(min=1, max=10, step=1, value=5),\n",
    "                                   r=(0, .20, .01)\n",
    ")\n",
    "display(controls)"
   ]
  },
  {
   "cell_type": "markdown",
   "id": "9742b787",
   "metadata": {},
   "source": [
    "## Portafoglio a copertura delle passività\n",
    "\n",
    "Cosa possiamo fare per proteggere il nostro portafoglio dalla passività possiamo usare [due strategie](https://www.ekonomia.it/2018/05/04/investire-in-base-al-bisogno-liability-driven-investment/):\n",
    "\n",
    "+ portafoglio a copertura delle passività LHP (Liability-Driven Investment) pensato per i fondi e le compagnie assicurative\n",
    "+ portafoglio a copertura degli obiettivi GHP (Growth-Driven Investment) pensato per investitori individuali\n",
    "\n",
    "Nei portafogli di investitori individuali non si parla di passività bensì di obiettivi, come definiamo l'obiettivo? <br/>\n",
    "Definiamo questo come un portafoglio che pagherà o fornirà flussi di cassa che corrisponderanno alla data e l'importo del nostro obiettivo.\n",
    "\n",
    "Facciamo un semplice esempio, siamo un investitore individuale e siamo nel 2018 assuamiamo che andremo in pensione nel 2035.\n",
    "Ora dal momento che andremo in pensione avremo bisgono di un importo per i successivi 20 anni (mi sto assumendo il rischio di longevità potrei vivere più di 20 anni).\n",
    "\n",
    "Ora una obbligazione con data di scadenza 2040 non è il nostro investimento migliore in quanto inizierà a pagare le cedole già da subito su base semestrale o annuale, fino alla data di scadenza per poi avere un pagamento. \n",
    "\n",
    "Quello che vogliamo è una serie di pagamenti legati alla inflazione, ora vogliamo studiare cosa succede quando i tassi di interesse cambiano nel tempo, utilizzeremo il modello **CIR**.\n",
    "\n",
    "Iniziamo con il mostrare l'equazione differenziale stocastica.\n",
    "\n",
    "$$\n",
    "    dr_t = a(b-r_t)d_t\\sigma\\sqrt{r_t}dW_t\n",
    "$$\n",
    "\n",
    "Questo modello simile al modello precedente del mercato azionario ci dice che i tassi di interesse tendono a mantenere la media sul lungo periodo vicino al valore $b$ e che non saranno mai negativi, questo viene garantito da $\\sqrt{r_t}$\n",
    "\n",
    "\n",
    "Prima di iniziare analizziamo il tasso di interessa a breve termine e il tasso di interesse annualizzato.\n",
    "\n",
    "### Tasso di interesse instantaneo e annualizzato\n",
    "\n",
    "Il tasso di interesse a breve termine è un tasso di interesse instantaneo (ad esempio 1g) come si calcola questo tasso?\n",
    "Supponiamo di ricevere 1€ con tasso di interesse al 100% a fine anno dovremmo restituire 1€ più gli interessi per un totale di 2€.\n",
    "\n",
    "Ora supponiamo di pagare gli interessi ogni 6 mesi cioè 50% metà e 50% a fine anno "
   ]
  },
  {
   "cell_type": "code",
   "execution_count": null,
   "id": "7695a229",
   "metadata": {},
   "outputs": [],
   "source": [
    "1 + 1*0.5 + 1.5*0.5"
   ]
  },
  {
   "cell_type": "markdown",
   "id": "7713aea3",
   "metadata": {},
   "source": [
    "Alziamo l'asticella e supponiamo di pagare gli interessi ogni 4 mesi"
   ]
  },
  {
   "cell_type": "code",
   "execution_count": null,
   "id": "88a65516",
   "metadata": {},
   "outputs": [],
   "source": [
    "1 + (1)*.25 + (1 + (1)*.25)*.25 + (1 + (1)*.25 + (1 + (1)*.25)*.25)*.25 + (1 + (1)*.25 + (1 + (1)*.25)*.25 + (1 + (1)*.25 + (1 + (1)*.25)*.25)*.25)*.25"
   ]
  },
  {
   "cell_type": "markdown",
   "id": "4e814fcb",
   "metadata": {},
   "source": [
    "Possiamo portare questi calcoli in formula generale come:\n",
    "\n",
    "$$\\left(1+\\frac{r}{N}\\right)^N$$\n",
    "\n",
    "con $r$ tasso di interesse annuale $N$ numero di frazionamenti"
   ]
  },
  {
   "cell_type": "code",
   "execution_count": null,
   "id": "4879e60b",
   "metadata": {},
   "outputs": [],
   "source": [
    "(1+1/2)**2"
   ]
  },
  {
   "cell_type": "code",
   "execution_count": null,
   "id": "a4a84f30",
   "metadata": {},
   "outputs": [],
   "source": [
    "(1+1/4)**4"
   ]
  },
  {
   "cell_type": "code",
   "execution_count": null,
   "id": "a275cd6b",
   "metadata": {},
   "outputs": [],
   "source": [
    "(1+1/12)**12"
   ]
  },
  {
   "cell_type": "markdown",
   "id": "63f01819",
   "metadata": {},
   "source": [
    "Creiamo un grafico con una rateazione che passa da annuale a giornaliera e vediamo il limite della funzione"
   ]
  },
  {
   "cell_type": "code",
   "execution_count": null,
   "id": "cf6449e1",
   "metadata": {},
   "outputs": [],
   "source": [
    "import matplotlib.pyplot as plt\n",
    "\n",
    "\n",
    "e = np.exp(1)\n",
    "\n",
    "N = np.arange(1,365)\n",
    "r = 1\n",
    "ret = (1 + r/N)**N\n",
    "plt.plot(N,ret)\n",
    "\n",
    "plt.axhline(y=e, color='r', linestyle='-.')"
   ]
  },
  {
   "cell_type": "markdown",
   "id": "d3353e1c",
   "metadata": {},
   "source": [
    "Vediamo subito una cosa interessante la serie converge verso $\\rm e$.\n",
    "\n",
    "Da questo possiamo estrarre le seguenti equazioni:\n",
    "\n",
    "$$\n",
    "    1 + r_{ann} = {\\rm e}^{r_{inst}}\n",
    "$$\n",
    "\n",
    "\n"
   ]
  },
  {
   "cell_type": "markdown",
   "id": "3b48ba92",
   "metadata": {},
   "source": [
    "$$\n",
    "    r_{ann} = {\\rm e}^{r_{inst}} - 1\n",
    "$$"
   ]
  },
  {
   "cell_type": "markdown",
   "id": "c19e024b",
   "metadata": {},
   "source": [
    "$$\n",
    "    r_{inst} = ln(1 + r_{ann})\n",
    "$$"
   ]
  },
  {
   "cell_type": "markdown",
   "id": "70d9830a",
   "metadata": {},
   "source": [
    "codifichiamo queste equazioni in python"
   ]
  },
  {
   "cell_type": "code",
   "execution_count": null,
   "id": "af1a6fab",
   "metadata": {},
   "outputs": [],
   "source": [
    "def inst_to_ann(r):\n",
    "    \"\"\"\n",
    "    Convert an instantaneous interest rate to an annual interest rate\n",
    "    \"\"\"\n",
    "    return np.expm1(r)\n",
    "\n",
    "def ann_to_inst(r):\n",
    "    \"\"\"\n",
    "    Convert an instantaneous interest rate to an annual interest rate\n",
    "    \"\"\"\n",
    "    return np.log1p(r)"
   ]
  },
  {
   "cell_type": "code",
   "execution_count": null,
   "id": "7fb2db0a",
   "metadata": {},
   "outputs": [],
   "source": [
    "inst_to_ann(0.029)"
   ]
  },
  {
   "cell_type": "markdown",
   "id": "547bf839",
   "metadata": {},
   "source": [
    "con queste due funzioni possiamo scrivere il nostro modello CIR (Cox-Ingersoll-Ross)"
   ]
  },
  {
   "cell_type": "code",
   "execution_count": null,
   "id": "6d0ee63b",
   "metadata": {},
   "outputs": [],
   "source": [
    "def cir(n_years = 10, n_scenarios=1, a=0.05, b=0.03, sigma=0.05, steps_per_year=12, r_0=None):\n",
    "    \"\"\"\n",
    "    Generate random interest rate evolution over time using the CIR model\n",
    "    b and r_0 are assumed to be the annualized rates, not the short rate\n",
    "    and the returned values are the annualized rates as well\n",
    "    \"\"\"\n",
    "    if r_0 is None: r_0 = b \n",
    "    r_0 = ann_to_inst(r_0)\n",
    "    dt = 1/steps_per_year\n",
    "    num_steps = int(n_years*steps_per_year) + 1 # because n_years might be a float\n",
    "    \n",
    "    shock = np.random.normal(0, scale=np.sqrt(dt), size=(num_steps, n_scenarios))\n",
    "    rates = np.empty_like(shock)\n",
    "    rates[0] = r_0\n",
    "    for step in range(1, num_steps):\n",
    "        r_t = rates[step-1]\n",
    "        d_r_t = a*(b-r_t)*dt + sigma*np.sqrt(r_t)*shock[step]\n",
    "        rates[step] = abs(r_t + d_r_t) # just in case of roundoff errors going negative\n",
    "        \n",
    "    return pd.DataFrame(data=inst_to_ann(rates), index=range(num_steps))"
   ]
  },
  {
   "cell_type": "code",
   "execution_count": null,
   "id": "6265a3ea",
   "metadata": {},
   "outputs": [],
   "source": [
    "cir(n_scenarios=10).plot(legend=False, figsize=(12,5))"
   ]
  },
  {
   "cell_type": "code",
   "execution_count": null,
   "id": "59c62878",
   "metadata": {},
   "outputs": [],
   "source": [
    "def show_cir(r_0=0.03, a=0.5, b=0.03, sigma=0.05, n_scenarios=5):\n",
    "    cir(r_0=r_0, a=a, b=b, sigma=sigma, n_scenarios=n_scenarios).plot(legend=False, figsize=(12,5))\n",
    "\n",
    "import ipywidgets as widgets\n",
    "from IPython.display import display\n",
    "    \n",
    "controls = widgets.interactive(show_cir,\n",
    "                              r_0 = (0, .15, .01),\n",
    "                              a = (0, 1, .1),\n",
    "                               b = (0, .15, .01),\n",
    "                               sigma= (0, .1, .01),\n",
    "                               n_scenarios = (1, 100))\n",
    "display(controls)"
   ]
  },
  {
   "cell_type": "markdown",
   "id": "321e045c",
   "metadata": {},
   "source": [
    "Questo modello ci permette di calcolare il prezzo delle **obbligazioni senza cedole** dette anche zero coupon bond \n",
    "\n",
    "$$P(t,T)=A(t,T)e^{-B(t,T)r_{t}}\\!$$\n",
    "\n",
    "dove\n",
    "\n",
    "$$ A(t,T)=\\left({\\frac  {2h e^{(a+h)\\tau/2}}{2h+(a+h)(e^{\\tau h}-1)}}\\right)^{{2ab/\\sigma ^{2}}} $$\n",
    "e\n",
    "$$ B(t,T)={\\frac  {2(e^{\\tau h}-1)}{2h+(a+h)(e^{\\tau h}-1)}} $$\n",
    "e\n",
    "$$ h={\\sqrt  {a^{2}+2\\sigma ^{2}}} $$\n",
    "e\n",
    "$$ \\tau = T-t $$"
   ]
  },
  {
   "cell_type": "code",
   "execution_count": null,
   "id": "b820c2ab",
   "metadata": {},
   "outputs": [],
   "source": [
    "import math\n",
    "def cir(n_years = 10, n_scenarios=1, a=0.05, b=0.03, sigma=0.05, steps_per_year=12, r_0=None):\n",
    "    \"\"\"\n",
    "    Generate random interest rate evolution over time using the CIR model\n",
    "    b and r_0 are assumed to be the annualized rates, not the short rate\n",
    "    and the returned values are the annualized rates as well\n",
    "    \"\"\"\n",
    "    if r_0 is None: r_0 = b \n",
    "    r_0 = ann_to_inst(r_0)\n",
    "    dt = 1/steps_per_year\n",
    "    num_steps = int(n_years*steps_per_year) + 1 # because n_years might be a float\n",
    "    \n",
    "    shock = np.random.normal(0, scale=np.sqrt(dt), size=(num_steps, n_scenarios))\n",
    "    rates = np.empty_like(shock)\n",
    "    rates[0] = r_0\n",
    "\n",
    "    ## For Price Generation\n",
    "    h = math.sqrt(a**2 + 2*sigma**2)\n",
    "    prices = np.empty_like(shock)\n",
    "    ####\n",
    "\n",
    "    def price(ttm, r):\n",
    "        _A = ((2*h*math.exp((h+a)*ttm/2))/(2*h+(h+a)*(math.exp(h*ttm)-1)))**(2*a*b/sigma**2)\n",
    "        _B = (2*(math.exp(h*ttm)-1))/(2*h + (h+a)*(math.exp(h*ttm)-1))\n",
    "        _P = _A*np.exp(-_B*r)\n",
    "        return _P\n",
    "    prices[0] = price(n_years, r_0)\n",
    "    ####\n",
    "    \n",
    "    for step in range(1, num_steps):\n",
    "        r_t = rates[step-1]\n",
    "        d_r_t = a*(b-r_t)*dt + sigma*np.sqrt(r_t)*shock[step]\n",
    "        rates[step] = abs(r_t + d_r_t)\n",
    "        # generate prices at time t as well ...\n",
    "        prices[step] = price(n_years-step*dt, rates[step])\n",
    "\n",
    "    rates = pd.DataFrame(data=inst_to_ann(rates), index=range(num_steps))\n",
    "    ### for prices\n",
    "    prices = pd.DataFrame(data=prices, index=range(num_steps))\n",
    "    ###\n",
    "    return rates, prices"
   ]
  },
  {
   "cell_type": "code",
   "execution_count": null,
   "id": "0d4b40df",
   "metadata": {},
   "outputs": [],
   "source": [
    "def show_cir_prices(r_0=0.03, a=0.5, b=0.03, sigma=0.05, n_scenarios=5):\n",
    "    cir(r_0=r_0, a=a, b=b, sigma=sigma, n_scenarios=n_scenarios)[1].plot(legend=False, figsize=(12,5))\n",
    "\n",
    "controls = widgets.interactive(show_cir_prices,\n",
    "                              r_0 = (0, .15, .01),\n",
    "                              a = (0, 1, .1),\n",
    "                               b = (0, .15, .01),\n",
    "                               sigma= (0, .1, .01),\n",
    "                               n_scenarios = (1, 100))\n",
    "display(controls)"
   ]
  },
  {
   "cell_type": "markdown",
   "id": "be7defc8",
   "metadata": {},
   "source": [
    "Simuliamo ora l'andamento tra l'investimento in denaro (conto deposito) e l'investimento in obbligazioni, vediamo che i tassi di interesse influiscono sul risultato finale se i nostro obiettivo è superare o raggiungere 1 il 20% delle volte falliamo"
   ]
  },
  {
   "cell_type": "code",
   "execution_count": null,
   "id": "92af7f6f",
   "metadata": {},
   "outputs": [],
   "source": [
    "# my starting asset value today aka cash in hand\n",
    "a_0 = 0.75\n",
    "# simulate the next 10 years\n",
    "rates, bond_prices = cir(r_0=0.03, b=0.03, n_scenarios=10)\n",
    "# liabilities are going to change over time to match the payoff of the ZCB\n",
    "liabilities = bond_prices\n",
    "# today's zero coupon bond price is the present value of 1 dollar in 10 years\n",
    "zc_0 = pv(pd.Series(data=[1], index=[10]), 0.03)\n",
    "# I can put my money in a zero coupon bond at today's price\n",
    "n_bonds = a_0/zc_0\n",
    "# and my asset value will grow based on the bond prices\n",
    "av_zc_bonds = n_bonds*bond_prices\n",
    "# how about if I invest in cash? It will grow at some rate of interest\n",
    "av_cash = a_0*(rates/12+1).cumprod()"
   ]
  },
  {
   "cell_type": "code",
   "execution_count": null,
   "id": "ad120b31",
   "metadata": {},
   "outputs": [],
   "source": [
    "av_cash.plot(title='Asset Values using Cash (10 scenarios)', legend=False, figsize=(12,5))"
   ]
  },
  {
   "cell_type": "markdown",
   "id": "84ea6e66",
   "metadata": {},
   "source": [
    "Se invece eseguiamo un test sulle obbligazioni senza cedola vediamo che il risultato finale non è influenzato dal cambiamento dei tassi di interesse"
   ]
  },
  {
   "cell_type": "code",
   "execution_count": null,
   "id": "bc7e09ac",
   "metadata": {},
   "outputs": [],
   "source": [
    "av_zc_bonds.plot(title='Asset Values using ZC Bonds (10 scenarios)', legend=False, figsize=(12,5))"
   ]
  },
  {
   "cell_type": "markdown",
   "id": "2574a4a7",
   "metadata": {},
   "source": [
    "Ragioniamo ora sui rendimenti dell'invetimento in denaro e in obbligazioni"
   ]
  },
  {
   "cell_type": "code",
   "execution_count": null,
   "id": "792d45b7",
   "metadata": {},
   "outputs": [],
   "source": [
    "av_cash.pct_change().plot(title='Returns using Cash (10 scenarios)', legend=False, figsize=(12,5))"
   ]
  },
  {
   "cell_type": "code",
   "execution_count": null,
   "id": "be36d0ee",
   "metadata": {},
   "outputs": [],
   "source": [
    "av_zc_bonds.pct_change().plot(title='Returns using ZC Bonds (10 scenarios)', legend=False, figsize=(12,5))"
   ]
  },
  {
   "cell_type": "markdown",
   "id": "e2a50ca0",
   "metadata": {},
   "source": [
    "Vediamo anche in termini di founding ratio (rapporto tra attivo e passivo)"
   ]
  },
  {
   "cell_type": "code",
   "execution_count": null,
   "id": "84f71154",
   "metadata": {},
   "outputs": [],
   "source": [
    "(av_cash/liabilities).pct_change().plot(title='Returns of Funding Ratio with Cash (10 scenarios)', legend=False, figsize=(12,5))"
   ]
  },
  {
   "cell_type": "code",
   "execution_count": null,
   "id": "955b085d",
   "metadata": {},
   "outputs": [],
   "source": [
    "(av_zc_bonds/liabilities).pct_change().plot(title='Returns of Funding Ratio with ZC Bonds (10 scenarios)', legend=False, figsize=(12,5))"
   ]
  },
  {
   "cell_type": "markdown",
   "id": "3209137f",
   "metadata": {},
   "source": [
    "Vediamo che con le obbligazioni il rapporto è stabile, ed è essenzialmente quello che vogliamo avere, analizziamo la distribuzione finale dei valori del founding ratio."
   ]
  },
  {
   "cell_type": "code",
   "execution_count": null,
   "id": "3ea19464",
   "metadata": {},
   "outputs": [],
   "source": [
    "# my starting asset value today aka cash in hand\n",
    "a_0 = 0.75\n",
    "# simulate the next 10 years\n",
    "rates, bond_prices = cir(r_0=0.03, b=0.03, n_scenarios=10000)\n",
    "# liabilities are going to change over time to match the payoff of the ZCB\n",
    "liabilities = bond_prices\n",
    "# today's zero coupon bond price is the present value of 1 dollar in 10 years\n",
    "zc_0 = pv(pd.Series(data=[1], index=[10]), 0.03)\n",
    "# I can put my money in a zero coupon bond at today's price\n",
    "n_bonds = a_0/zc_0\n",
    "# and my asset value will grow based on the bond prices\n",
    "av_zc_bonds = n_bonds*bond_prices\n",
    "# how about if I invest in cash? It will grow at some rate of interest over time\n",
    "av_cash = a_0*(rates/12+1).cumprod()"
   ]
  },
  {
   "cell_type": "code",
   "execution_count": null,
   "id": "4de91d17",
   "metadata": {},
   "outputs": [],
   "source": [
    "tfr_cash = av_cash.iloc[-1]/liabilities.iloc[-1]\n",
    "tfr_zc_bonds = av_zc_bonds.iloc[-1]/liabilities.iloc[-1]\n",
    "ax = tfr_cash.plot.hist(label=\"Cash\", figsize=(12,5), bins=100, legend=True)\n",
    "tfr_zc_bonds.plot.hist(ax=ax,label=\"ZC Bonds\", bins=100, secondary_y=True, legend=True)"
   ]
  },
  {
   "cell_type": "markdown",
   "id": "a2abd9eb",
   "metadata": {},
   "source": [
    "Come possiamo vedere gli investimenti in denaro possono avere dei risultati finali rischiosi, le obbligazioni senza cedola possono avare delle fluttuazioni importanti durante il percorso ma alla fine arrivano all'obiettivo.\n",
    "\n",
    "Ovviamente abbiamo fatto due assunzioni per comodità:\n",
    "\n",
    "* Abbiamo assunto di avere sempre una obbligazione disponibile per la data scadenza voluta\n",
    "* Abbiamo beni inziali per poterci permettere la copertura\n",
    "\n",
    "Cercheremo di superare questi due punti con i prossimi appunti\n",
    "\n",
    "\n",
    "https://www.performancetrading.it/Documenti.htm\n",
    "https://en.wikipedia.org/wiki/Goal-based_investing\n",
    "\n",
    "Continuiamo a scrivere le nostre funzioni che useremo la prima `bond_cash_flows` crea i flussi di cassa per ogni cedola, l'ultima cedola conterrà il capitale iniziale piu l'ultima cedola.\n",
    "\n",
    "La seconda funzione ci da il prezzo "
   ]
  },
  {
   "cell_type": "code",
   "execution_count": null,
   "id": "c026189f",
   "metadata": {},
   "outputs": [],
   "source": [
    "import math\n",
    "def bond_cash_flows(maturity, principal=100, coupon_rate=0.03, coupons_per_year=12):\n",
    "    \"\"\"\n",
    "    Returns the series of cash flows generated by a bond,\n",
    "    indexed by the payment/coupon number\n",
    "    \"\"\"\n",
    "    n_coupons = round(maturity*coupons_per_year)\n",
    "    coupon_amt = principal*coupon_rate/coupons_per_year\n",
    "    coupon_times = np.arange(1, n_coupons+1)\n",
    "    cash_flows = pd.Series(data=coupon_amt, index=coupon_times)\n",
    "    cash_flows.iloc[-1] += principal # add the principal to the last payment\n",
    "    return cash_flows\n",
    "    \n",
    "def bond_price(maturity, principal=100, coupon_rate=0.03, coupons_per_year=12, discount_rate=0.03):\n",
    "    \"\"\"\n",
    "    Computes the price of a bond that pays regular coupons until maturity\n",
    "    at which time the principal and the final coupon is returned\n",
    "    This is not designed to be efficient, rather,\n",
    "    it is to illustrate the underlying principle behind bond pricing!\n",
    "    \"\"\"\n",
    "    cash_flows = bond_cash_flows(maturity, principal, coupon_rate, coupons_per_year)\n",
    "    return pv(cash_flows, discount_rate/coupons_per_year)"
   ]
  },
  {
   "cell_type": "code",
   "execution_count": null,
   "id": "475aae65",
   "metadata": {},
   "outputs": [],
   "source": [
    "bond_cash_flows(3)"
   ]
  },
  {
   "cell_type": "code",
   "execution_count": null,
   "id": "c17b9516",
   "metadata": {},
   "outputs": [],
   "source": [
    "bond_price(3)"
   ]
  },
  {
   "cell_type": "code",
   "execution_count": null,
   "id": "200ea4f0",
   "metadata": {},
   "outputs": [],
   "source": [
    "rates = np.linspace(.01, .10, num=20)\n",
    "prices = [bond_price(10, 1000, 0.05, 2, rate) for rate in rates]\n",
    "pd.DataFrame(data=prices, index=rates).plot(title=\"Change in 10Y Bond Prices with Interest Rates\", legend=False)"
   ]
  },
  {
   "cell_type": "code",
   "execution_count": null,
   "id": "a07c1ded",
   "metadata": {},
   "outputs": [],
   "source": [
    "def macaulay_duration(flows, discount_rate):\n",
    "    \"\"\"\n",
    "    Computes the Macaulay Duration of a sequence of cash flows, given a per-period discount rate\n",
    "    \"\"\"\n",
    "    discounted_flows = discount(flows.index, discount_rate)*flows\n",
    "    weights = discounted_flows/discounted_flows.sum()\n",
    "    return np.average(flows.index, weights=weights)"
   ]
  },
  {
   "cell_type": "code",
   "execution_count": null,
   "id": "2476af19",
   "metadata": {},
   "outputs": [],
   "source": [
    "macaulay_duration(bond_cash_flows(3, 1000, .06, 2), 0.06/2)"
   ]
  },
  {
   "cell_type": "markdown",
   "id": "2af36aa7",
   "metadata": {},
   "source": [
    "### Duration matching\n",
    "\n"
   ]
  },
  {
   "cell_type": "code",
   "execution_count": null,
   "id": "05b35fc6",
   "metadata": {},
   "outputs": [],
   "source": [
    "liabilities = pd.Series(data = [100000, 100000], index=[10, 12])\n",
    "macaulay_duration(liabilities, .04)"
   ]
  },
  {
   "cell_type": "code",
   "execution_count": null,
   "id": "8394d0b4",
   "metadata": {},
   "outputs": [],
   "source": [
    "md_10 = macaulay_duration(bond_cash_flows(10, 1000, .05, 1), .04)"
   ]
  },
  {
   "cell_type": "code",
   "execution_count": null,
   "id": "31c3941a",
   "metadata": {},
   "outputs": [],
   "source": [
    "md_20 = macaulay_duration(bond_cash_flows(20, 1000, .05, 1), .04)"
   ]
  },
  {
   "cell_type": "code",
   "execution_count": null,
   "id": "5c9cc677",
   "metadata": {},
   "outputs": [],
   "source": [
    "md_10,md_20"
   ]
  },
  {
   "cell_type": "markdown",
   "id": "fda707dc",
   "metadata": {},
   "source": [
    "Therefore, we need to hold a portfolio of these two bonds that has a combined target duration that matches the duration of the liability, which is given by the following expression, where $w_s$ is the weight in the short duration bond whcih has duration $d_s$ and the duration of the longer bond is $d_l$. We designate the targeted duration as $d_t$.\n",
    "\n",
    "In our case, the fraction in the short duration asset $w_s$ should be such that:\n",
    "\n",
    "$$ w_s \\times 8.19 + (1-w_s) \\times 13.54 = 10.96 $$\n",
    "\n",
    "more generally:\n",
    "\n",
    "$$ w_s \\times d_s + (1-w_s) \\times d_l = d_t $$\n",
    "\n",
    "rearranging gives:\n",
    "\n",
    "$$ w_s = \\frac{d_l -d_t}{d_l - d_s} $$"
   ]
  },
  {
   "cell_type": "code",
   "execution_count": null,
   "id": "057a9c9f",
   "metadata": {},
   "outputs": [],
   "source": [
    "def match_durations(cf_t, cf_s, cf_l, discount_rate):\n",
    "    \"\"\"\n",
    "    Returns the weight W in cf_s that, along with (1-W) in cf_l will have an effective\n",
    "    duration that matches cf_t\n",
    "    \"\"\"\n",
    "    d_t = macaulay_duration(cf_t, discount_rate)\n",
    "    d_s = macaulay_duration(cf_s, discount_rate)\n",
    "    d_l = macaulay_duration(cf_l, discount_rate)\n",
    "    return (d_l - d_t)/(d_l - d_s)"
   ]
  },
  {
   "cell_type": "code",
   "execution_count": null,
   "id": "0a5dc7bb",
   "metadata": {},
   "outputs": [],
   "source": [
    "short_bond = bond_cash_flows(10, 1000, .05, 1)\n",
    "long_bond = bond_cash_flows(20, 1000, .05, 1)\n",
    "w_s = match_durations(liabilities, short_bond, long_bond, 0.04)\n",
    "w_s"
   ]
  },
  {
   "cell_type": "code",
   "execution_count": null,
   "id": "5988f86a",
   "metadata": {},
   "outputs": [],
   "source": [
    "p_short = bond_price(10, 1000, .05, 1, 0.04)\n",
    "p_long = bond_price(20, 1000, .05, 1, 0.04)\n",
    "a_0 = 130000\n",
    "dm_assets=pd.concat([a_0*w_s*short_bond/p_short,a_0*(1-w_s)*long_bond/p_long])\n",
    "macaulay_duration(dm_assets, 0.04)"
   ]
  },
  {
   "cell_type": "code",
   "execution_count": null,
   "id": "db3c5234",
   "metadata": {},
   "outputs": [],
   "source": [
    "macaulay_duration(liabilities, 0.04)"
   ]
  },
  {
   "cell_type": "code",
   "execution_count": null,
   "id": "ac26d571",
   "metadata": {},
   "outputs": [],
   "source": [
    "def funding_ratio(assets, liabilities, r):\n",
    "    \"\"\"\n",
    "    Computes the funding ratio of a series of liabilities, based on an interest rate and current value of assets\n",
    "    \"\"\"\n",
    "    return pv(assets, r)/pv(liabilities, r)"
   ]
  },
  {
   "cell_type": "code",
   "execution_count": null,
   "id": "18133dd8",
   "metadata": {},
   "outputs": [],
   "source": [
    "cfr = funding_ratio(dm_assets, liabilities, 0.04)\n",
    "cfr"
   ]
  },
  {
   "cell_type": "code",
   "execution_count": null,
   "id": "7e6de0cc",
   "metadata": {},
   "outputs": [],
   "source": [
    "lb_assets = a_0*long_bond/p_long\n",
    "funding_ratio(lb_assets, liabilities, 0.04)"
   ]
  },
  {
   "cell_type": "code",
   "execution_count": null,
   "id": "88bab74d",
   "metadata": {},
   "outputs": [],
   "source": [
    "sb_assets = a_0*short_bond/p_short\n",
    "funding_ratio(sb_assets, liabilities, 0.04)"
   ]
  },
  {
   "cell_type": "code",
   "execution_count": null,
   "id": "708f1fa4",
   "metadata": {},
   "outputs": [],
   "source": [
    "rates = np.linspace(0, .1, 20)\n",
    "fr_change = pd.DataFrame({\n",
    "    \"Long Bond\":[funding_ratio(lb_assets, liabilities, r) for r in rates],\n",
    "    \"Short Bond\":[funding_ratio(sb_assets, liabilities, r) for r in rates],\n",
    "    \"Duration Matched Bonds\":[funding_ratio(dm_assets, liabilities, r) for r in rates]\n",
    "}, index=rates)\n",
    "fr_change"
   ]
  },
  {
   "cell_type": "code",
   "execution_count": null,
   "id": "84eefddb",
   "metadata": {},
   "outputs": [],
   "source": [
    "fr_change.plot(title='Change in Funding Ratio', figsize=(10,6))"
   ]
  },
  {
   "cell_type": "code",
   "execution_count": null,
   "id": "8c4e38c5",
   "metadata": {},
   "outputs": [],
   "source": []
  }
 ],
 "metadata": {
  "kernelspec": {
   "display_name": "Python 3 (ipykernel)",
   "language": "python",
   "name": "python3"
  },
  "language_info": {
   "codemirror_mode": {
    "name": "ipython",
    "version": 3
   },
   "file_extension": ".py",
   "mimetype": "text/x-python",
   "name": "python",
   "nbconvert_exporter": "python",
   "pygments_lexer": "ipython3",
   "version": "3.11.5"
  }
 },
 "nbformat": 4,
 "nbformat_minor": 5
}
