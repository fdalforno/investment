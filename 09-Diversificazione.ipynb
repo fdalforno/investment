{
 "cells": [
  {
   "cell_type": "markdown",
   "id": "c39cdf54",
   "metadata": {},
   "source": [
    "## Diversificazione ingenua\n",
    "\n",
    "Per spiegare la diversificazione partiamo con un semplice aneddoto.\n",
    "Un agricoltore deve portare le uova al mercato per venderle, ora la domanda è qual è il metodo più efficace per far arrivare al merecato le uova?\n",
    "\n",
    "La teoria ci dice di dividere le uova in più panieri, se teniamo le uova in un unico paniere e succede qualcosa di sbagliato falliamo!!\n",
    "\n",
    "Ora possiamo affermare che l'obiettivo finale non è quello di avere un portafoglio ben bilanciato ma il nostro obiettivo è quello di avere il massimo rendimento possibile.\n",
    "\n",
    "Ritonando alla storiella del paniere la nostra domanda è quanti panieri usare?\n",
    "\n",
    "Prendiamo come esempio il paniere qui sotto che investe in 30 azioni:\n",
    "\n",
    "![Diversification](./img/diversification.png)\n",
    "\n",
    "Si vede subito che questo portafoglio è composto da meno di 10 azioni significative\n",
    "\n",
    "### Numero effettivo di componenti\n",
    "\n",
    "Abbiamo bisogno di una equazione matematica per calcolare il numero effettivo di componenti. Impostiamo questa formula come\n",
    "\n",
    "\n",
    "$$\n",
    "    ENC \\equiv \\left(\\sum_{i=1}^{N} w_i^{2} \\right)^{-1}\n",
    "$$\n",
    "\n",
    "\n",
    "Per vedere la validità della formula analizziamo i suoi casi estremi:\n",
    "\n",
    "* Il primo caso è quello di un portafoglio estremamente concentrato dove ad esempio un titolo ha peso 1 e tutti gli altri pesi sono impostati a 0 il valore di ENC sarà pari a 1\n",
    "\n",
    "* Il secondo caso è il portafoglio equamente diversificato dove ogni componente del portafoglio ha una allocazione pari a $\\frac{1}{N}$ ENC saràa pari a N\n",
    "\n",
    "## Diversificazione scientifica\n",
    "\n",
    "Riprendiamo l'argomento diversificazione, quello che a noi interessa maggiormente è avere un portafoglio con una varianza minima globale.E per farlo dobbiamo massimizzare lo sharpe ratio.\n",
    "\n",
    "Il grosso problema è che per massimizzare lo sharpe ratio abbiamo bisogno delle stime di rendimenti affidabili, che non sono per nulla facili da ottenere. Ne consegue che il portafoglio sarà molto impreciso.\n",
    "\n",
    "Dimenticandoci dei rendimenti quello che possiamo fare è concentrarci su un portafoglio a varianzia minima globale. Questo portafoglio è interessante in quanto non ha bisogno di conoscere i rendimenti.\n",
    "\n",
    "Questo portafoglio minimizza il rischio, abbiamo però un problema siamo passati da sovrapesare i redimenti attesi a sovrapesare la bassa volatilità e questo non porta a portafogli equilibrati, meno diversificati.\n",
    "\n",
    "\n"
   ]
  },
  {
   "cell_type": "code",
   "execution_count": null,
   "id": "e5dd5464",
   "metadata": {},
   "outputs": [],
   "source": []
  }
 ],
 "metadata": {
  "kernelspec": {
   "display_name": "Python 3 (ipykernel)",
   "language": "python",
   "name": "python3"
  },
  "language_info": {
   "codemirror_mode": {
    "name": "ipython",
    "version": 3
   },
   "file_extension": ".py",
   "mimetype": "text/x-python",
   "name": "python",
   "nbconvert_exporter": "python",
   "pygments_lexer": "ipython3",
   "version": "3.11.5"
  }
 },
 "nbformat": 4,
 "nbformat_minor": 5
}
