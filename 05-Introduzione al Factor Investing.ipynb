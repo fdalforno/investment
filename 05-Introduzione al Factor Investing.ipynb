{
 "cells": [
  {
   "cell_type": "markdown",
   "id": "a779bf8c",
   "metadata": {},
   "source": [
    "Uno dei principali cambiamenti avvenuti negli ultimi 10 anni è stato un interesse particolare per quello che riguarda il Factori Investing o \"Smart Beta\". Per capirne il funzionamento dobbiamo fare un passo in dietro sul concetto di investimento a cui siamo abituati a pensare.\n",
    "\n",
    "Noi siamo abituati a pensare a due tipi di investimento:\n",
    "\n",
    "* Passivo in cui si investe su un indice ad esempio l'sp500\n",
    "* Attivo qui un gestore di fondi cerca di battere il mercato\n",
    "\n",
    "La gestione attiva è generalmente più costosa di quella passiva e tende ad essere incoerente (alla lunga tende a non sovraperformare). Ultimamente si sta creando una terza via che non è ne attiva ne passiva, il factor investing, dove non si fa altro che prendere alcune regole della gestione attiva e trasformarle in indice relativamente economico.\n",
    "\n",
    "Per capire questo facciamo un passo in dietro e facciamo una analogia. Un investitore vede un portafoglio come un prodotto confezionato per me da qualcun altro (il gestore) . \n",
    "\n",
    "Il gestore vede un portafoglio come un insieme di componenti e dovrà scegliere quali componenti e in quale misura mettere per vendercelo.\n",
    "\n",
    "Un investimento basato su fattori è come pensare alla nostra salute scegliamo gli alimenti in base a dei **fattori** nutrizionali, il gioco è capire quali fattori per noi siano fattori trainanti.\n",
    "\n",
    "Ora cosa rappresenta per noi un fattore? Un fattore è semplicemente una variabile, un qualcosa che influenza il rendimento di quell'assett, alla fine questo è associato al rischio di premio.\n",
    "\n",
    "Quali sono i fattori più comuni? vediamo tre le famiglie:\n",
    "\n",
    "* Macro fattori: crescita, inflazione (non sono facili da trovare nei vari prodotti)\n",
    "* Fattori statistici: es correlazione\n",
    "* Fattori intrinsechi o stili: ad esempio low volatility, growth ecc ecc\n",
    "\n",
    "Prima di iniziare a fare questo dobbiamo fare un passo in dietro e capire cosa è un modello fattoriale partendo dal modello storico più importante.\n",
    "\n",
    "## Il modello CAPM\n",
    "\n",
    "Cominciamo con l'analizzare un modello storico basato su fattori, il CAPM.\n",
    "Questo modello è un qualcosa di più di un modello fattoriale.\n",
    "\n",
    "Possiamo scrivere la formula in questo modo\n",
    "\n",
    "$$\n",
    "    E(R_i) = \\beta\\left(E(R_m) - R_f\\right) + R_f\n",
    "$$\n",
    "\n",
    "Questa formula dice che il rendimento atteso del nostro investimento $R_i$ e uguale all'eccesso di rendimento ($E(R_m) - R_f$ surplus del rendimento di mercato rispetto al risk free) moltiplicato per un fattore $\\beta$.\n",
    "\n",
    "Il valore $\\beta$ verrà trattato come:\n",
    "\n",
    "$$\n",
    "    \\beta = \\frac{cov(r_i,r_m)}{var(r_m)}\n",
    "$$\n",
    "\n",
    "Come si vede questo è un modello semplice che prende come riferimento il rendimento sul mercato.\n",
    "Ora se io calcolassi tutti i $\\beta$ delle azioni presenti sul mercato e costruissi un grafico con i $\\beta$ le ascisse e gli eccessi di mercato sulle ordinate mi aspetterei di avere come risultato una serie di punti disposti su una linea immaginaria.\n",
    "\n",
    "Se il titolo ha un valore $\\beta$ alto quando il mercato sarà in salita il titolo salirà (più velocemente) stessa cosa quando il mercato sarà in discesa.\n",
    "Ma se il titolo ha un $\\beta$ pari a zero o comunque un valore molto basso? Questo titolo ovviamente non seguirà il mercato.\n",
    "Abbiamo anche altre anomalie ad esempio i titoli a basso volume tendono a sovraperformare ed addirittura i titoli con un alto $\\beta$ non lavorano così bene come ci si aspetterebbe.\n",
    "\n",
    "Dobbiamo perciò trovare un modello che catturi in pochino meglio queste caratteristiche, con ulteriori fattori\n",
    "\n",
    "## Modello multifattoriale di Fama e French\n",
    "\n",
    "Fama e French per arrivare a questo modello hanno preso il mercato azionario e lo hanno diviso in decili in base alla dimensione. poi in questi decili hanno ordinato per il Price/Book (Prezzo/Valore contabile) che essenzialmente è una misura del valore dell'azione\n",
    "\n",
    "Fatto questo si è osservato il comportamento del decile superiore rispetto al decile inferiore, si è controllato il 10% del mercato azionario superiore con il 10% del mercato azionazio inferiore.\n",
    "\n",
    "Si è visto che il mercato azionario delle piccole aziende tende a sovraperformare quello delle grandi aziende, questo viene chiamato size effect\n",
    "\n",
    "Questo è uno dei comportamenti che il modello CAPM non riesce a catturare, stesso discorso per le azioni di tipo Value e Growth.\n",
    "Fama e French hanno dunque aggiustato il modello aggiungendo ulteriori termini.\n",
    "\n",
    "$$\n",
    "    E(R_i) = r_f + \\beta_{MKT}\\left(E(R_m) - R_f\\right) + \\beta_{SMB} E(SMB) + \\beta_{HML} E(HML)\n",
    "$$\n",
    "\n",
    "Con SMB le più piccole azioni meno le più grandi azioni e HML le azioni con rapporto con rapporto Book/Price più alto meno quelle con Book/Price più basso.\n",
    "\n",
    "A questo modello sono stati aggiunti altri valori ad esempio:\n",
    "\n",
    "* Le azioni a bassa volatilità tendono a battere quelle ad alta volatilità\n",
    "* Le azioni di alta qualità tendono a battere quelle a bassa volatilità\n",
    "\n",
    "## Style Analisys\n",
    "\n",
    "In questa parte faremo una cosa insolita, abbiamo già detto che i fattori sono un modo per scomporre i rendimenti in una sorta di premi fattoriali.\n",
    "\n",
    "Potremmo usare questi fattori come una sorta di benchmark, esempio supponiamo di avere un portafoglio con un $\\beta$ pari a 1.3, possiamo pensare a questo portafoglio come ad un portafogli che rende 1.3 volte il prezzo di mercato meno il 0.3 il risk free.\n",
    "\n",
    "Cosa vuol dire ho un euro, posso predere a prestito 30 centesimi investirli in risk free e poi investire quel 1.3 nel mercato oppure posso investire in quel portafoglio sempre un euro.\n",
    "\n",
    "Scriviamo una formula e facciamo un esempio:\n",
    "\n",
    "$$\n",
    "    E(r_i) - r_f = \\alpha + \\beta \\left( E(r_m) - r_f \\right)\n",
    "$$\n",
    "$$\n",
    "    \\alpha = E(r_i) - \\beta \\left( E(r_m) - r_f \\right) + r_f\n",
    "$$\n",
    "\n",
    "Ora facciamo un esempio diciamo che un gestore ci dice che ha sovraperformato rispetto al mercato con un portafogli con un $\\beta$ pari a 1.3 (Sensibilità al mercato) il risk free rate è pari a 1% il mercato ha reso l'11% e il nostro portafoglio il 14%\n",
    "\n",
    "Abbiamo generato $\\alpha$? voglio dire a fronte di una maggiore esposizione il nostro portafoglio ha portato valore, mi sono comportato meglio del previsto?\n",
    "\n",
    "$$\n",
    "   14 - 1.3(11-1) + 1 = 0\n",
    "$$\n",
    "\n",
    "Il valore di $\\alpha$ è zero perciò non abbiamo portato valore aggiunto.\n",
    "Perciò diciamo che se abbiamo un $\\alpha$ positivo abbiamo un portafoglio che porta valore se negativo abbiamo un portafoglio che distrugge valore.\n",
    "\n",
    "Su questo base Sharpe nel 1992 ha introdotto la **Sharpe style analisys** dove possiamo prendere il nostro modello fattorale e vedere i fattori come variabili esplicative, utilizzeremo elementi come rendimenti delle obbligazioni, rendimenti del valore ecc ecc.. e scoporremo il rendimento del nostro portafoglio in termini di variabili esplicative per vedere se generiamo $\\alpha$ su questo.\n",
    "\n",
    "ad esempio impostiamo come\n",
    "\n",
    "$$\n",
    "    R_{man} = w_1 \\cdot R_1 + \\cdots + w_n \\cdot R_n + \\alpha + \\epsilon\n",
    "$$\n",
    "\n",
    "Con $R_{man}$ il rendimento della nostra gestione e $R_1,\\cdots,R_n$ i rendimenti dei nostri fattori\n",
    "\n",
    "\n",
    "## Carenze degli indici ponderati in base alla capitalizzazione\n",
    "\n",
    "Come si vede spesso i gestori di fondi usano gli indici ponderati alla capitalizzazione per come benchmark, i gestori attivi hanno come obiettivo battere il benchmark mentre quelli passivi vogliono replicarlo.\n",
    "\n",
    "Questi indici vengono usati come benchmark in quanto sono semplici da capire e facili da costruire. \n",
    "\n",
    "Hanno anche una coerenza macroeconomica ma c'è un problema, non sono efficienti in termini di portafoglio in altre parole non generano un rendimento corretto per il rischio che si potrebbe aspettare da una allocazione efficiente.\n",
    "\n",
    "Facciamo un esempio (Schwartz 2000) prendiamo i titoli dell' S&P 500 e li tracciamo nello spazio rischio/rendimento poi calcoliamo la frontiera efficiente che si otterrebbe con questi titoli ebbene la frontiera afficiente è lontana dall'indice.\n",
    "\n",
    "Esiste cioè in portafoglio con lo stesso rendimento dell'S&P 500 ma con una volatilità più bassa.\n",
    "Ora questa affermazione è bellissima ma siamo di fronte ad un lookhaead bias (bias di anticipazione). Stiamo analizzando i dati expost.\n",
    "\n",
    "Ora la domanda è possiamo trovare sostituti o alternative ragionevoli all'indice capweitghed che non soffrono del bias di anticipazione?\n",
    "\n",
    "La risposta è si e questo è molto confortante, Platen e Rendek nel 2010 fecero qualcosa di semplice, riportarono nei 53 paesi dell'indice MSCi il rapporto sharpe dei portafogli equamenti ponderati e il rapporto sharpe dei portafogli ponderati per capitalizzazione.\n",
    "\n",
    "Si è scoperto che l'indice ponderato equamente tende sempre a superare il portafoglio ponderato per capitalizzazione.\n",
    "Perchè questo? Perchè gli indici cap weighted tendono sempre a essere pesantemente concentrati e poco diversificati.\n",
    "\n",
    "Esistono approcci ancora più specifici come:\n",
    "\n",
    "* varianza minima\n",
    "* risk parity\n",
    "\n",
    "tutti questi portafogli tendono a lavorare meglio dei portafogli cap weighted perchè sono più diversificati.\n",
    "Si è fatto ancora di meglio si è provato a generare portagli randomici basati sull'S&P500 e si è visto che i portafogli peggiori genererati casualmente tendono a essere sempre migliori ai portafogli cap weighted.\n",
    "\n",
    "\n",
    "## Dai Benchmark cap weighted ai benchmark smart  weighted\n",
    "\n",
    "abbiamo detto prima che gli indici **cap weighted** sofforno di due limiti:\n",
    "\n",
    "1. Tendono a essere concentrati, rischio specifico\n",
    "\n",
    "la soluzione a questo problema è adottare uno schema di ponderazione migliore.\n",
    "Altro problema:\n",
    "\n",
    "2. Gli indici cap wheighted tendono a presentare esposizioni fattoriali implicite che non sono ottimali, esposizione inefficiente al rischio sistematico\n",
    "\n",
    "Spieghiamo meglio, se deteniamo un portafoglio ponderato in base alla capitalizzazione implica che per costruire tale portafoglio avrò una tendenza verso titoli ad alta capitalizzazione, rispetto a titoli a media e bassa capitalizzazione. Inoltre questo portafoglio avrà una tenenza verso titoli growth rispetto a titoli value. \n",
    "\n",
    "Ora come possiamo risolvere questi problemi contemporaneamente? \n",
    "\n",
    "Come dice Fama:\n",
    "\n",
    "> Tutto quello che diciamo in finanza è che dovreste detenere portafogli diversificati secondo l'inclinazione che preferite\n",
    "\n",
    "Con inclinazione intendiamo esposizione fattoriale, questa idea ci da suggerimenti su come costruire indici più efficienti chiamati **smart factor**\n",
    "\n",
    "Dunque questo lavoro si riduce a due passaggi:\n",
    "\n",
    "1. Scegliere il fattore di esposizione ad esempio:\n",
    "\n",
    "| Valutazione                          | Dimensione                  | Momentum                                 | Volatilità                                   |\n",
    "|--------------------------------------|-----------------------------|------------------------------------------|----------------------------------------------|\n",
    "| Valore                               | Grande Capitalizzazione     | Vincitori nel passato                    | Alta                                         |\n",
    "| Crescita                             | Media Capitalizzazione      | Perdenti nel passato                     | Bassa                                        |\n",
    "| Controllo il rapporto book to market | Capitalizzazione aggiustata | ritorni cumulativi negli ultimi due anni | Volatilità settimanale negli ultimi due anni |\n",
    "\n",
    "2. selezionare lo schema di pesi che si vuole scegliere\n",
    "\n",
    "\n",
    "\n",
    "### Analisi Fattoriale Implementazione\n",
    "\n",
    "Cominciamo con l'analizzare i rendimenti del fondo **Berkshire Hataway**"
   ]
  },
  {
   "cell_type": "code",
   "execution_count": 1,
   "id": "fcd6a218",
   "metadata": {},
   "outputs": [
    {
     "data": {
      "text/html": [
       "<div>\n",
       "<style scoped>\n",
       "    .dataframe tbody tr th:only-of-type {\n",
       "        vertical-align: middle;\n",
       "    }\n",
       "\n",
       "    .dataframe tbody tr th {\n",
       "        vertical-align: top;\n",
       "    }\n",
       "\n",
       "    .dataframe thead th {\n",
       "        text-align: right;\n",
       "    }\n",
       "</style>\n",
       "<table border=\"1\" class=\"dataframe\">\n",
       "  <thead>\n",
       "    <tr style=\"text-align: right;\">\n",
       "      <th></th>\n",
       "      <th>BRKA</th>\n",
       "    </tr>\n",
       "    <tr>\n",
       "      <th>DATE</th>\n",
       "      <th></th>\n",
       "    </tr>\n",
       "  </thead>\n",
       "  <tbody>\n",
       "    <tr>\n",
       "      <th>1990-01-02</th>\n",
       "      <td>-0.005764</td>\n",
       "    </tr>\n",
       "    <tr>\n",
       "      <th>1990-01-03</th>\n",
       "      <td>0.000000</td>\n",
       "    </tr>\n",
       "    <tr>\n",
       "      <th>1990-01-04</th>\n",
       "      <td>0.005797</td>\n",
       "    </tr>\n",
       "    <tr>\n",
       "      <th>1990-01-05</th>\n",
       "      <td>-0.005764</td>\n",
       "    </tr>\n",
       "    <tr>\n",
       "      <th>1990-01-08</th>\n",
       "      <td>0.000000</td>\n",
       "    </tr>\n",
       "  </tbody>\n",
       "</table>\n",
       "</div>"
      ],
      "text/plain": [
       "                BRKA\n",
       "DATE                \n",
       "1990-01-02 -0.005764\n",
       "1990-01-03  0.000000\n",
       "1990-01-04  0.005797\n",
       "1990-01-05 -0.005764\n",
       "1990-01-08  0.000000"
      ]
     },
     "execution_count": 1,
     "metadata": {},
     "output_type": "execute_result"
    }
   ],
   "source": [
    "import pandas as pd\n",
    "\n",
    "brka_d = pd.read_csv(\"data/brka_d_ret.csv\", parse_dates=True, index_col=0)\n",
    "brka_d.head()"
   ]
  },
  {
   "cell_type": "code",
   "execution_count": 2,
   "id": "f31697fc",
   "metadata": {},
   "outputs": [
    {
     "data": {
      "text/html": [
       "<div>\n",
       "<style scoped>\n",
       "    .dataframe tbody tr th:only-of-type {\n",
       "        vertical-align: middle;\n",
       "    }\n",
       "\n",
       "    .dataframe tbody tr th {\n",
       "        vertical-align: top;\n",
       "    }\n",
       "\n",
       "    .dataframe thead th {\n",
       "        text-align: right;\n",
       "    }\n",
       "</style>\n",
       "<table border=\"1\" class=\"dataframe\">\n",
       "  <thead>\n",
       "    <tr style=\"text-align: right;\">\n",
       "      <th></th>\n",
       "      <th>BRKA</th>\n",
       "    </tr>\n",
       "    <tr>\n",
       "      <th>DATE</th>\n",
       "      <th></th>\n",
       "    </tr>\n",
       "  </thead>\n",
       "  <tbody>\n",
       "    <tr>\n",
       "      <th>2018-12-24</th>\n",
       "      <td>-0.018611</td>\n",
       "    </tr>\n",
       "    <tr>\n",
       "      <th>2018-12-26</th>\n",
       "      <td>0.043200</td>\n",
       "    </tr>\n",
       "    <tr>\n",
       "      <th>2018-12-27</th>\n",
       "      <td>0.012379</td>\n",
       "    </tr>\n",
       "    <tr>\n",
       "      <th>2018-12-28</th>\n",
       "      <td>0.013735</td>\n",
       "    </tr>\n",
       "    <tr>\n",
       "      <th>2018-12-31</th>\n",
       "      <td>0.011236</td>\n",
       "    </tr>\n",
       "  </tbody>\n",
       "</table>\n",
       "</div>"
      ],
      "text/plain": [
       "                BRKA\n",
       "DATE                \n",
       "2018-12-24 -0.018611\n",
       "2018-12-26  0.043200\n",
       "2018-12-27  0.012379\n",
       "2018-12-28  0.013735\n",
       "2018-12-31  0.011236"
      ]
     },
     "execution_count": 2,
     "metadata": {},
     "output_type": "execute_result"
    }
   ],
   "source": [
    "brka_d.tail()"
   ]
  },
  {
   "cell_type": "markdown",
   "id": "a81abdea",
   "metadata": {},
   "source": [
    "Dobbiamo trasformare questi rendimenti da giornalieri a mensili, il miglior modo per farlo è usare il metodo `resample` che permette di aggregare in base una funzione una serie temporale. il parametro `M` permette il raggruppamento mensile"
   ]
  },
  {
   "cell_type": "code",
   "execution_count": 3,
   "id": "1d0776f3",
   "metadata": {},
   "outputs": [
    {
     "data": {
      "text/html": [
       "<div>\n",
       "<style scoped>\n",
       "    .dataframe tbody tr th:only-of-type {\n",
       "        vertical-align: middle;\n",
       "    }\n",
       "\n",
       "    .dataframe tbody tr th {\n",
       "        vertical-align: top;\n",
       "    }\n",
       "\n",
       "    .dataframe thead th {\n",
       "        text-align: right;\n",
       "    }\n",
       "</style>\n",
       "<table border=\"1\" class=\"dataframe\">\n",
       "  <thead>\n",
       "    <tr style=\"text-align: right;\">\n",
       "      <th></th>\n",
       "      <th>BRKA</th>\n",
       "    </tr>\n",
       "    <tr>\n",
       "      <th>DATE</th>\n",
       "      <th></th>\n",
       "    </tr>\n",
       "  </thead>\n",
       "  <tbody>\n",
       "    <tr>\n",
       "      <th>1990-01</th>\n",
       "      <td>-0.140634</td>\n",
       "    </tr>\n",
       "    <tr>\n",
       "      <th>1990-02</th>\n",
       "      <td>-0.030852</td>\n",
       "    </tr>\n",
       "    <tr>\n",
       "      <th>1990-03</th>\n",
       "      <td>-0.069204</td>\n",
       "    </tr>\n",
       "    <tr>\n",
       "      <th>1990-04</th>\n",
       "      <td>-0.003717</td>\n",
       "    </tr>\n",
       "    <tr>\n",
       "      <th>1990-05</th>\n",
       "      <td>0.067164</td>\n",
       "    </tr>\n",
       "  </tbody>\n",
       "</table>\n",
       "</div>"
      ],
      "text/plain": [
       "             BRKA\n",
       "DATE             \n",
       "1990-01 -0.140634\n",
       "1990-02 -0.030852\n",
       "1990-03 -0.069204\n",
       "1990-04 -0.003717\n",
       "1990-05  0.067164"
      ]
     },
     "execution_count": 3,
     "metadata": {},
     "output_type": "execute_result"
    }
   ],
   "source": [
    "%load_ext autoreload\n",
    "%autoreload 2\n",
    "\n",
    "from risk import compound\n",
    "\n",
    "\n",
    "brka_m = brka_d.resample('M').apply(compound).to_period('M')\n",
    "brka_m.head()"
   ]
  },
  {
   "cell_type": "markdown",
   "id": "27db7a7f",
   "metadata": {},
   "source": [
    "Salviamo i dati per dopo"
   ]
  },
  {
   "cell_type": "code",
   "execution_count": 4,
   "id": "330a09c4",
   "metadata": {},
   "outputs": [],
   "source": [
    "brka_m.to_csv(\"data/brka_m.csv\")"
   ]
  },
  {
   "cell_type": "markdown",
   "id": "663e24e6",
   "metadata": {},
   "source": [
    "Ora carichiami il dataset di Fama e French che useremo per le variabili"
   ]
  },
  {
   "cell_type": "code",
   "execution_count": 5,
   "id": "c198b668",
   "metadata": {},
   "outputs": [
    {
     "data": {
      "text/html": [
       "<div>\n",
       "<style scoped>\n",
       "    .dataframe tbody tr th:only-of-type {\n",
       "        vertical-align: middle;\n",
       "    }\n",
       "\n",
       "    .dataframe tbody tr th {\n",
       "        vertical-align: top;\n",
       "    }\n",
       "\n",
       "    .dataframe thead th {\n",
       "        text-align: right;\n",
       "    }\n",
       "</style>\n",
       "<table border=\"1\" class=\"dataframe\">\n",
       "  <thead>\n",
       "    <tr style=\"text-align: right;\">\n",
       "      <th></th>\n",
       "      <th>Mkt-RF</th>\n",
       "      <th>SMB</th>\n",
       "      <th>HML</th>\n",
       "      <th>RF</th>\n",
       "    </tr>\n",
       "  </thead>\n",
       "  <tbody>\n",
       "    <tr>\n",
       "      <th>1926-07</th>\n",
       "      <td>0.0296</td>\n",
       "      <td>-0.0230</td>\n",
       "      <td>-0.0287</td>\n",
       "      <td>0.0022</td>\n",
       "    </tr>\n",
       "    <tr>\n",
       "      <th>1926-08</th>\n",
       "      <td>0.0264</td>\n",
       "      <td>-0.0140</td>\n",
       "      <td>0.0419</td>\n",
       "      <td>0.0025</td>\n",
       "    </tr>\n",
       "    <tr>\n",
       "      <th>1926-09</th>\n",
       "      <td>0.0036</td>\n",
       "      <td>-0.0132</td>\n",
       "      <td>0.0001</td>\n",
       "      <td>0.0023</td>\n",
       "    </tr>\n",
       "    <tr>\n",
       "      <th>1926-10</th>\n",
       "      <td>-0.0324</td>\n",
       "      <td>0.0004</td>\n",
       "      <td>0.0051</td>\n",
       "      <td>0.0032</td>\n",
       "    </tr>\n",
       "    <tr>\n",
       "      <th>1926-11</th>\n",
       "      <td>0.0253</td>\n",
       "      <td>-0.0020</td>\n",
       "      <td>-0.0035</td>\n",
       "      <td>0.0031</td>\n",
       "    </tr>\n",
       "  </tbody>\n",
       "</table>\n",
       "</div>"
      ],
      "text/plain": [
       "         Mkt-RF     SMB     HML      RF\n",
       "1926-07  0.0296 -0.0230 -0.0287  0.0022\n",
       "1926-08  0.0264 -0.0140  0.0419  0.0025\n",
       "1926-09  0.0036 -0.0132  0.0001  0.0023\n",
       "1926-10 -0.0324  0.0004  0.0051  0.0032\n",
       "1926-11  0.0253 -0.0020 -0.0035  0.0031"
      ]
     },
     "execution_count": 5,
     "metadata": {},
     "output_type": "execute_result"
    }
   ],
   "source": [
    "from dataset import get_fff_returns\n",
    "fff = get_fff_returns()\n",
    "fff.head()"
   ]
  },
  {
   "cell_type": "markdown",
   "id": "5252c091",
   "metadata": {},
   "source": [
    "Ora vogliamo scomporre il fondo BRKA in fattori lo facciamo impostando come data di partenza il 1990 e fine maggio 2012"
   ]
  },
  {
   "cell_type": "code",
   "execution_count": 6,
   "id": "04786c3e",
   "metadata": {},
   "outputs": [],
   "source": [
    "start = \"1990\"\n",
    "end = \"2012-05\""
   ]
  },
  {
   "cell_type": "markdown",
   "id": "c39de3af",
   "metadata": {},
   "source": [
    "Scomponiamo secondo il modello CAPM\n",
    "\n",
    "$$ R_{brka,t} - R_{f,t} = \\alpha + \\beta(R_{mkt,t} - R_{f,t}) + \\epsilon_t $$\n",
    "\n",
    "useremo le api `stats.api` per la regressione lineare. "
   ]
  },
  {
   "cell_type": "code",
   "execution_count": 7,
   "id": "7ee0948f",
   "metadata": {},
   "outputs": [],
   "source": [
    "import statsmodels.api as sm\n",
    "import numpy as np\n",
    "brka_excess = brka_m[start:end] - fff.loc[start:end, ['RF']].values\n",
    "mkt_excess = fff.loc[start:end,['Mkt-RF']]\n",
    "exp_var = mkt_excess.copy()\n",
    "exp_var[\"Constant\"] = 1\n",
    "lm = sm.OLS(brka_excess, exp_var).fit()"
   ]
  },
  {
   "cell_type": "code",
   "execution_count": 8,
   "id": "27f98805",
   "metadata": {},
   "outputs": [
    {
     "data": {
      "text/html": [
       "<table class=\"simpletable\">\n",
       "<caption>OLS Regression Results</caption>\n",
       "<tr>\n",
       "  <th>Dep. Variable:</th>          <td>BRKA</td>       <th>  R-squared:         </th> <td>   0.154</td>\n",
       "</tr>\n",
       "<tr>\n",
       "  <th>Model:</th>                   <td>OLS</td>       <th>  Adj. R-squared:    </th> <td>   0.150</td>\n",
       "</tr>\n",
       "<tr>\n",
       "  <th>Method:</th>             <td>Least Squares</td>  <th>  F-statistic:       </th> <td>   48.45</td>\n",
       "</tr>\n",
       "<tr>\n",
       "  <th>Date:</th>             <td>Tue, 03 Dec 2024</td> <th>  Prob (F-statistic):</th> <td>2.62e-11</td>\n",
       "</tr>\n",
       "<tr>\n",
       "  <th>Time:</th>                 <td>13:17:16</td>     <th>  Log-Likelihood:    </th> <td>  388.47</td>\n",
       "</tr>\n",
       "<tr>\n",
       "  <th>No. Observations:</th>      <td>   269</td>      <th>  AIC:               </th> <td>  -772.9</td>\n",
       "</tr>\n",
       "<tr>\n",
       "  <th>Df Residuals:</th>          <td>   267</td>      <th>  BIC:               </th> <td>  -765.7</td>\n",
       "</tr>\n",
       "<tr>\n",
       "  <th>Df Model:</th>              <td>     1</td>      <th>                     </th>     <td> </td>   \n",
       "</tr>\n",
       "<tr>\n",
       "  <th>Covariance Type:</th>      <td>nonrobust</td>    <th>                     </th>     <td> </td>   \n",
       "</tr>\n",
       "</table>\n",
       "<table class=\"simpletable\">\n",
       "<tr>\n",
       "      <td></td>        <th>coef</th>     <th>std err</th>      <th>t</th>      <th>P>|t|</th>  <th>[0.025</th>    <th>0.975]</th>  \n",
       "</tr>\n",
       "<tr>\n",
       "  <th>Mkt-RF</th>   <td>    0.5402</td> <td>    0.078</td> <td>    6.961</td> <td> 0.000</td> <td>    0.387</td> <td>    0.693</td>\n",
       "</tr>\n",
       "<tr>\n",
       "  <th>Constant</th> <td>    0.0061</td> <td>    0.004</td> <td>    1.744</td> <td> 0.082</td> <td>   -0.001</td> <td>    0.013</td>\n",
       "</tr>\n",
       "</table>\n",
       "<table class=\"simpletable\">\n",
       "<tr>\n",
       "  <th>Omnibus:</th>       <td>45.698</td> <th>  Durbin-Watson:     </th> <td>   2.079</td>\n",
       "</tr>\n",
       "<tr>\n",
       "  <th>Prob(Omnibus):</th> <td> 0.000</td> <th>  Jarque-Bera (JB):  </th> <td> 102.573</td>\n",
       "</tr>\n",
       "<tr>\n",
       "  <th>Skew:</th>          <td> 0.825</td> <th>  Prob(JB):          </th> <td>5.33e-23</td>\n",
       "</tr>\n",
       "<tr>\n",
       "  <th>Kurtosis:</th>      <td> 5.535</td> <th>  Cond. No.          </th> <td>    22.2</td>\n",
       "</tr>\n",
       "</table><br/><br/>Notes:<br/>[1] Standard Errors assume that the covariance matrix of the errors is correctly specified."
      ],
      "text/latex": [
       "\\begin{center}\n",
       "\\begin{tabular}{lclc}\n",
       "\\toprule\n",
       "\\textbf{Dep. Variable:}    &       BRKA       & \\textbf{  R-squared:         } &     0.154   \\\\\n",
       "\\textbf{Model:}            &       OLS        & \\textbf{  Adj. R-squared:    } &     0.150   \\\\\n",
       "\\textbf{Method:}           &  Least Squares   & \\textbf{  F-statistic:       } &     48.45   \\\\\n",
       "\\textbf{Date:}             & Tue, 03 Dec 2024 & \\textbf{  Prob (F-statistic):} &  2.62e-11   \\\\\n",
       "\\textbf{Time:}             &     13:17:16     & \\textbf{  Log-Likelihood:    } &    388.47   \\\\\n",
       "\\textbf{No. Observations:} &         269      & \\textbf{  AIC:               } &    -772.9   \\\\\n",
       "\\textbf{Df Residuals:}     &         267      & \\textbf{  BIC:               } &    -765.7   \\\\\n",
       "\\textbf{Df Model:}         &           1      & \\textbf{                     } &             \\\\\n",
       "\\textbf{Covariance Type:}  &    nonrobust     & \\textbf{                     } &             \\\\\n",
       "\\bottomrule\n",
       "\\end{tabular}\n",
       "\\begin{tabular}{lcccccc}\n",
       "                  & \\textbf{coef} & \\textbf{std err} & \\textbf{t} & \\textbf{P$> |$t$|$} & \\textbf{[0.025} & \\textbf{0.975]}  \\\\\n",
       "\\midrule\n",
       "\\textbf{Mkt-RF}   &       0.5402  &        0.078     &     6.961  &         0.000        &        0.387    &        0.693     \\\\\n",
       "\\textbf{Constant} &       0.0061  &        0.004     &     1.744  &         0.082        &       -0.001    &        0.013     \\\\\n",
       "\\bottomrule\n",
       "\\end{tabular}\n",
       "\\begin{tabular}{lclc}\n",
       "\\textbf{Omnibus:}       & 45.698 & \\textbf{  Durbin-Watson:     } &    2.079  \\\\\n",
       "\\textbf{Prob(Omnibus):} &  0.000 & \\textbf{  Jarque-Bera (JB):  } &  102.573  \\\\\n",
       "\\textbf{Skew:}          &  0.825 & \\textbf{  Prob(JB):          } & 5.33e-23  \\\\\n",
       "\\textbf{Kurtosis:}      &  5.535 & \\textbf{  Cond. No.          } &     22.2  \\\\\n",
       "\\bottomrule\n",
       "\\end{tabular}\n",
       "%\\caption{OLS Regression Results}\n",
       "\\end{center}\n",
       "\n",
       "Notes: \\newline\n",
       " [1] Standard Errors assume that the covariance matrix of the errors is correctly specified."
      ],
      "text/plain": [
       "<class 'statsmodels.iolib.summary.Summary'>\n",
       "\"\"\"\n",
       "                            OLS Regression Results                            \n",
       "==============================================================================\n",
       "Dep. Variable:                   BRKA   R-squared:                       0.154\n",
       "Model:                            OLS   Adj. R-squared:                  0.150\n",
       "Method:                 Least Squares   F-statistic:                     48.45\n",
       "Date:                Tue, 03 Dec 2024   Prob (F-statistic):           2.62e-11\n",
       "Time:                        13:17:16   Log-Likelihood:                 388.47\n",
       "No. Observations:                 269   AIC:                            -772.9\n",
       "Df Residuals:                     267   BIC:                            -765.7\n",
       "Df Model:                           1                                         \n",
       "Covariance Type:            nonrobust                                         \n",
       "==============================================================================\n",
       "                 coef    std err          t      P>|t|      [0.025      0.975]\n",
       "------------------------------------------------------------------------------\n",
       "Mkt-RF         0.5402      0.078      6.961      0.000       0.387       0.693\n",
       "Constant       0.0061      0.004      1.744      0.082      -0.001       0.013\n",
       "==============================================================================\n",
       "Omnibus:                       45.698   Durbin-Watson:                   2.079\n",
       "Prob(Omnibus):                  0.000   Jarque-Bera (JB):              102.573\n",
       "Skew:                           0.825   Prob(JB):                     5.33e-23\n",
       "Kurtosis:                       5.535   Cond. No.                         22.2\n",
       "==============================================================================\n",
       "\n",
       "Notes:\n",
       "[1] Standard Errors assume that the covariance matrix of the errors is correctly specified.\n",
       "\"\"\""
      ]
     },
     "execution_count": 8,
     "metadata": {},
     "output_type": "execute_result"
    }
   ],
   "source": [
    "lm.summary()"
   ]
  },
  {
   "cell_type": "markdown",
   "id": "5c0fd048",
   "metadata": {},
   "source": [
    "Il termine constant nella tabella sopra rappresenta il nostro $\\alpha$ pari a 0.61% _(al mese!)_  come vediamo il fondo ha generato molto valore aggiunto.\n",
    "\n",
    "Aggiungiamo due variabili esplicative Value e Size"
   ]
  },
  {
   "cell_type": "code",
   "execution_count": 9,
   "id": "9b9647e2",
   "metadata": {},
   "outputs": [
    {
     "data": {
      "text/html": [
       "<div>\n",
       "<style scoped>\n",
       "    .dataframe tbody tr th:only-of-type {\n",
       "        vertical-align: middle;\n",
       "    }\n",
       "\n",
       "    .dataframe tbody tr th {\n",
       "        vertical-align: top;\n",
       "    }\n",
       "\n",
       "    .dataframe thead th {\n",
       "        text-align: right;\n",
       "    }\n",
       "</style>\n",
       "<table border=\"1\" class=\"dataframe\">\n",
       "  <thead>\n",
       "    <tr style=\"text-align: right;\">\n",
       "      <th></th>\n",
       "      <th>Mkt-RF</th>\n",
       "      <th>Constant</th>\n",
       "      <th>Value</th>\n",
       "      <th>Size</th>\n",
       "    </tr>\n",
       "  </thead>\n",
       "  <tbody>\n",
       "    <tr>\n",
       "      <th>1990-01</th>\n",
       "      <td>-0.0785</td>\n",
       "      <td>1</td>\n",
       "      <td>0.0087</td>\n",
       "      <td>-0.0129</td>\n",
       "    </tr>\n",
       "    <tr>\n",
       "      <th>1990-02</th>\n",
       "      <td>0.0111</td>\n",
       "      <td>1</td>\n",
       "      <td>0.0061</td>\n",
       "      <td>0.0103</td>\n",
       "    </tr>\n",
       "    <tr>\n",
       "      <th>1990-03</th>\n",
       "      <td>0.0183</td>\n",
       "      <td>1</td>\n",
       "      <td>-0.0290</td>\n",
       "      <td>0.0152</td>\n",
       "    </tr>\n",
       "    <tr>\n",
       "      <th>1990-04</th>\n",
       "      <td>-0.0336</td>\n",
       "      <td>1</td>\n",
       "      <td>-0.0255</td>\n",
       "      <td>-0.0050</td>\n",
       "    </tr>\n",
       "    <tr>\n",
       "      <th>1990-05</th>\n",
       "      <td>0.0842</td>\n",
       "      <td>1</td>\n",
       "      <td>-0.0374</td>\n",
       "      <td>-0.0257</td>\n",
       "    </tr>\n",
       "  </tbody>\n",
       "</table>\n",
       "</div>"
      ],
      "text/plain": [
       "         Mkt-RF  Constant   Value    Size\n",
       "1990-01 -0.0785         1  0.0087 -0.0129\n",
       "1990-02  0.0111         1  0.0061  0.0103\n",
       "1990-03  0.0183         1 -0.0290  0.0152\n",
       "1990-04 -0.0336         1 -0.0255 -0.0050\n",
       "1990-05  0.0842         1 -0.0374 -0.0257"
      ]
     },
     "execution_count": 9,
     "metadata": {},
     "output_type": "execute_result"
    }
   ],
   "source": [
    "exp_var[\"Value\"] = fff.loc[start:end,['HML']]\n",
    "exp_var[\"Size\"] = fff.loc[start:end,['SMB']]\n",
    "exp_var.head()"
   ]
  },
  {
   "cell_type": "markdown",
   "id": "74fb5318",
   "metadata": {},
   "source": [
    "Rieseguiamo l'analisi "
   ]
  },
  {
   "cell_type": "code",
   "execution_count": 10,
   "id": "1339575e",
   "metadata": {},
   "outputs": [
    {
     "data": {
      "text/html": [
       "<table class=\"simpletable\">\n",
       "<caption>OLS Regression Results</caption>\n",
       "<tr>\n",
       "  <th>Dep. Variable:</th>          <td>BRKA</td>       <th>  R-squared:         </th> <td>   0.290</td>\n",
       "</tr>\n",
       "<tr>\n",
       "  <th>Model:</th>                   <td>OLS</td>       <th>  Adj. R-squared:    </th> <td>   0.282</td>\n",
       "</tr>\n",
       "<tr>\n",
       "  <th>Method:</th>             <td>Least Squares</td>  <th>  F-statistic:       </th> <td>   36.06</td>\n",
       "</tr>\n",
       "<tr>\n",
       "  <th>Date:</th>             <td>Tue, 03 Dec 2024</td> <th>  Prob (F-statistic):</th> <td>1.41e-19</td>\n",
       "</tr>\n",
       "<tr>\n",
       "  <th>Time:</th>                 <td>13:17:16</td>     <th>  Log-Likelihood:    </th> <td>  412.09</td>\n",
       "</tr>\n",
       "<tr>\n",
       "  <th>No. Observations:</th>      <td>   269</td>      <th>  AIC:               </th> <td>  -816.2</td>\n",
       "</tr>\n",
       "<tr>\n",
       "  <th>Df Residuals:</th>          <td>   265</td>      <th>  BIC:               </th> <td>  -801.8</td>\n",
       "</tr>\n",
       "<tr>\n",
       "  <th>Df Model:</th>              <td>     3</td>      <th>                     </th>     <td> </td>   \n",
       "</tr>\n",
       "<tr>\n",
       "  <th>Covariance Type:</th>      <td>nonrobust</td>    <th>                     </th>     <td> </td>   \n",
       "</tr>\n",
       "</table>\n",
       "<table class=\"simpletable\">\n",
       "<tr>\n",
       "      <td></td>        <th>coef</th>     <th>std err</th>      <th>t</th>      <th>P>|t|</th>  <th>[0.025</th>    <th>0.975]</th>  \n",
       "</tr>\n",
       "<tr>\n",
       "  <th>Mkt-RF</th>   <td>    0.6761</td> <td>    0.074</td> <td>    9.155</td> <td> 0.000</td> <td>    0.531</td> <td>    0.821</td>\n",
       "</tr>\n",
       "<tr>\n",
       "  <th>Constant</th> <td>    0.0055</td> <td>    0.003</td> <td>    1.679</td> <td> 0.094</td> <td>   -0.001</td> <td>    0.012</td>\n",
       "</tr>\n",
       "<tr>\n",
       "  <th>Value</th>    <td>    0.3814</td> <td>    0.109</td> <td>    3.508</td> <td> 0.001</td> <td>    0.167</td> <td>    0.595</td>\n",
       "</tr>\n",
       "<tr>\n",
       "  <th>Size</th>     <td>   -0.5023</td> <td>    0.101</td> <td>   -4.962</td> <td> 0.000</td> <td>   -0.702</td> <td>   -0.303</td>\n",
       "</tr>\n",
       "</table>\n",
       "<table class=\"simpletable\">\n",
       "<tr>\n",
       "  <th>Omnibus:</th>       <td>42.261</td> <th>  Durbin-Watson:     </th> <td>   2.146</td>\n",
       "</tr>\n",
       "<tr>\n",
       "  <th>Prob(Omnibus):</th> <td> 0.000</td> <th>  Jarque-Bera (JB):  </th> <td>  67.954</td>\n",
       "</tr>\n",
       "<tr>\n",
       "  <th>Skew:</th>          <td> 0.904</td> <th>  Prob(JB):          </th> <td>1.75e-15</td>\n",
       "</tr>\n",
       "<tr>\n",
       "  <th>Kurtosis:</th>      <td> 4.671</td> <th>  Cond. No.          </th> <td>    37.2</td>\n",
       "</tr>\n",
       "</table><br/><br/>Notes:<br/>[1] Standard Errors assume that the covariance matrix of the errors is correctly specified."
      ],
      "text/latex": [
       "\\begin{center}\n",
       "\\begin{tabular}{lclc}\n",
       "\\toprule\n",
       "\\textbf{Dep. Variable:}    &       BRKA       & \\textbf{  R-squared:         } &     0.290   \\\\\n",
       "\\textbf{Model:}            &       OLS        & \\textbf{  Adj. R-squared:    } &     0.282   \\\\\n",
       "\\textbf{Method:}           &  Least Squares   & \\textbf{  F-statistic:       } &     36.06   \\\\\n",
       "\\textbf{Date:}             & Tue, 03 Dec 2024 & \\textbf{  Prob (F-statistic):} &  1.41e-19   \\\\\n",
       "\\textbf{Time:}             &     13:17:16     & \\textbf{  Log-Likelihood:    } &    412.09   \\\\\n",
       "\\textbf{No. Observations:} &         269      & \\textbf{  AIC:               } &    -816.2   \\\\\n",
       "\\textbf{Df Residuals:}     &         265      & \\textbf{  BIC:               } &    -801.8   \\\\\n",
       "\\textbf{Df Model:}         &           3      & \\textbf{                     } &             \\\\\n",
       "\\textbf{Covariance Type:}  &    nonrobust     & \\textbf{                     } &             \\\\\n",
       "\\bottomrule\n",
       "\\end{tabular}\n",
       "\\begin{tabular}{lcccccc}\n",
       "                  & \\textbf{coef} & \\textbf{std err} & \\textbf{t} & \\textbf{P$> |$t$|$} & \\textbf{[0.025} & \\textbf{0.975]}  \\\\\n",
       "\\midrule\n",
       "\\textbf{Mkt-RF}   &       0.6761  &        0.074     &     9.155  &         0.000        &        0.531    &        0.821     \\\\\n",
       "\\textbf{Constant} &       0.0055  &        0.003     &     1.679  &         0.094        &       -0.001    &        0.012     \\\\\n",
       "\\textbf{Value}    &       0.3814  &        0.109     &     3.508  &         0.001        &        0.167    &        0.595     \\\\\n",
       "\\textbf{Size}     &      -0.5023  &        0.101     &    -4.962  &         0.000        &       -0.702    &       -0.303     \\\\\n",
       "\\bottomrule\n",
       "\\end{tabular}\n",
       "\\begin{tabular}{lclc}\n",
       "\\textbf{Omnibus:}       & 42.261 & \\textbf{  Durbin-Watson:     } &    2.146  \\\\\n",
       "\\textbf{Prob(Omnibus):} &  0.000 & \\textbf{  Jarque-Bera (JB):  } &   67.954  \\\\\n",
       "\\textbf{Skew:}          &  0.904 & \\textbf{  Prob(JB):          } & 1.75e-15  \\\\\n",
       "\\textbf{Kurtosis:}      &  4.671 & \\textbf{  Cond. No.          } &     37.2  \\\\\n",
       "\\bottomrule\n",
       "\\end{tabular}\n",
       "%\\caption{OLS Regression Results}\n",
       "\\end{center}\n",
       "\n",
       "Notes: \\newline\n",
       " [1] Standard Errors assume that the covariance matrix of the errors is correctly specified."
      ],
      "text/plain": [
       "<class 'statsmodels.iolib.summary.Summary'>\n",
       "\"\"\"\n",
       "                            OLS Regression Results                            \n",
       "==============================================================================\n",
       "Dep. Variable:                   BRKA   R-squared:                       0.290\n",
       "Model:                            OLS   Adj. R-squared:                  0.282\n",
       "Method:                 Least Squares   F-statistic:                     36.06\n",
       "Date:                Tue, 03 Dec 2024   Prob (F-statistic):           1.41e-19\n",
       "Time:                        13:17:16   Log-Likelihood:                 412.09\n",
       "No. Observations:                 269   AIC:                            -816.2\n",
       "Df Residuals:                     265   BIC:                            -801.8\n",
       "Df Model:                           3                                         \n",
       "Covariance Type:            nonrobust                                         \n",
       "==============================================================================\n",
       "                 coef    std err          t      P>|t|      [0.025      0.975]\n",
       "------------------------------------------------------------------------------\n",
       "Mkt-RF         0.6761      0.074      9.155      0.000       0.531       0.821\n",
       "Constant       0.0055      0.003      1.679      0.094      -0.001       0.012\n",
       "Value          0.3814      0.109      3.508      0.001       0.167       0.595\n",
       "Size          -0.5023      0.101     -4.962      0.000      -0.702      -0.303\n",
       "==============================================================================\n",
       "Omnibus:                       42.261   Durbin-Watson:                   2.146\n",
       "Prob(Omnibus):                  0.000   Jarque-Bera (JB):               67.954\n",
       "Skew:                           0.904   Prob(JB):                     1.75e-15\n",
       "Kurtosis:                       4.671   Cond. No.                         37.2\n",
       "==============================================================================\n",
       "\n",
       "Notes:\n",
       "[1] Standard Errors assume that the covariance matrix of the errors is correctly specified.\n",
       "\"\"\""
      ]
     },
     "execution_count": 10,
     "metadata": {},
     "output_type": "execute_result"
    }
   ],
   "source": [
    "lm = sm.OLS(brka_excess, exp_var).fit()\n",
    "lm.summary()"
   ]
  },
  {
   "cell_type": "markdown",
   "id": "f54b2dd8",
   "metadata": {},
   "source": [
    "Vediamo che il coefficiente di mercato è passato da un 0.54 a un 0.67 e il nostro $\\alpha$ è passato da un 0.61% a un 0.55%.\n",
    "Possiamo interpretare che il fondo in questo periodo ha avuto una inclinazione verso i titoli Value e non Growth (questo non dovrebbe stupire) mentre il fattore size negativo implica che sempre in questo periodi il fondo ha investito su grosse compagnie."
   ]
  },
  {
   "cell_type": "code",
   "execution_count": 11,
   "id": "a7897a65",
   "metadata": {},
   "outputs": [],
   "source": [
    "def regress(dependent_variable, explanatory_variables, alpha=True):\n",
    "    \"\"\"\n",
    "    Runs a linear regression to decompose the dependent variable into the explanatory variables\n",
    "    returns an object of type statsmodel's RegressionResults on which you can call\n",
    "       .summary() to print a full summary\n",
    "       .params for the coefficients\n",
    "       .tvalues and .pvalues for the significance levels\n",
    "       .rsquared_adj and .rsquared for quality of fit\n",
    "    \"\"\"\n",
    "    if alpha:\n",
    "        explanatory_variables = explanatory_variables.copy()\n",
    "        explanatory_variables[\"Alpha\"] = 1\n",
    "    \n",
    "    lm = sm.OLS(dependent_variable, explanatory_variables).fit()\n",
    "    return lm"
   ]
  },
  {
   "cell_type": "code",
   "execution_count": 12,
   "id": "fa827bac",
   "metadata": {},
   "outputs": [],
   "source": [
    "start = \"2012-05\"\n",
    "end = \"2018\"\n",
    "\n",
    "brka_excess = brka_m[start:end] - fff.loc[start:end, ['RF']].values\n",
    "mkt_excess = fff.loc[start:end,['Mkt-RF']]\n",
    "\n",
    "result = regress(brka_excess, mkt_excess)"
   ]
  },
  {
   "cell_type": "code",
   "execution_count": 13,
   "id": "3ddefd79",
   "metadata": {},
   "outputs": [
    {
     "data": {
      "text/plain": [
       "Mkt-RF    0.817656\n",
       "Alpha     0.004443\n",
       "dtype: float64"
      ]
     },
     "execution_count": 13,
     "metadata": {},
     "output_type": "execute_result"
    }
   ],
   "source": [
    "result.params"
   ]
  },
  {
   "cell_type": "markdown",
   "id": "400a8fdf",
   "metadata": {},
   "source": [
    "## Sharpe Style Analisys\n",
    "\n",
    "La Sharpe style analisys è una decomposizione fattoriale nello stile che abbiamo visto prima, gli unici vincoli sono che i fattori devono dare somma 1 e devono essere tutti positivi.\n",
    "\n",
    "Possiamo dunque pensare questa decomposizione come ad un portafoglio che _imita_ il portafoglio che vogliamo scomporre.\n",
    "Questo può aiutare a capire come il gestore si sta muovendo per ottenere quel tipo di rendimenti.\n",
    "\n",
    "La chiave per ottenere questi pesi è il nostro vecchio amico ottimizzatore quadratico.\n",
    "Chiederemo dunque di trovare la combinazione di persi che minimizzano l'errore quadratico tra i pesi e l'indice che vogliamo replicare.\n",
    "Questo equivale a minimizzare l'errore di tracciamento.\n",
    "\n",
    "Il codice per implementare questo è una modifica molto leggera di `minimize_vol` che abbiamo implementato in precedenza:\n",
    "\n",
    "```python                         \n",
    "def style_analysis(dependent_variable, explanatory_variables):\n",
    "    \"\"\"\n",
    "    Returns the optimal weights that minimizes the Tracking error between\n",
    "    a portfolio of the explanatory variables and the dependent variable\n",
    "    \"\"\"\n",
    "    n = explanatory_variables.shape[1]\n",
    "    init_guess = np.repeat(1/n, n)\n",
    "    bounds = ((0.0, 1.0),) * n # an N-tuple of 2-tuples!\n",
    "    # construct the constraints\n",
    "    weights_sum_to_1 = {'type': 'eq',\n",
    "                        'fun': lambda weights: np.sum(weights) - 1\n",
    "    }\n",
    "    solution = minimize(portfolio_tracking_error, init_guess,\n",
    "                       args=(dependent_variable, explanatory_variables,), method='SLSQP',\n",
    "                       options={'disp': False},\n",
    "                       constraints=(weights_sum_to_1,),\n",
    "                       bounds=bounds)\n",
    "    weights = pd.Series(solution.x, index=explanatory_variables.columns)\n",
    "    return weights\n",
    "```\n",
    "Con la semplice funzione obiettivo\n",
    "\n",
    "```python\n",
    "def portfolio_tracking_error(weights, ref_r, bb_r):\n",
    "    \"\"\"\n",
    "    returns the tracking error between the reference returns\n",
    "    and a portfolio of building block returns held with given weights\n",
    "    \"\"\"\n",
    "    return tracking_error(ref_r, (weights*bb_r).sum(axis=1))\n",
    "```\n",
    "\n",
    "Creiamo il nostro indice partendo dal 2000"
   ]
  },
  {
   "cell_type": "code",
   "execution_count": 14,
   "id": "25874a32",
   "metadata": {},
   "outputs": [],
   "source": [
    "from dataset import get_ind_returns\n",
    "\n",
    "ind = get_ind_returns()[\"2000\":]"
   ]
  },
  {
   "cell_type": "markdown",
   "id": "9b4705b6",
   "metadata": {},
   "source": [
    "Ora creiamo un fondo in cui decidiamo di investire il 30% in birra il 50% nel settore tabacco  e il restante 20% in altre cose che hanno un rendimento mensile pari al 0% e volatilità annualizzata pari al 15%"
   ]
  },
  {
   "cell_type": "code",
   "execution_count": 15,
   "id": "5f812465",
   "metadata": {},
   "outputs": [],
   "source": [
    "mgr_r = 0.3*ind[\"Beer\"] + .5*ind[\"Smoke\"] + 0.2*np.random.normal(scale=0.15/(12**.5), size=ind.shape[0])"
   ]
  },
  {
   "cell_type": "markdown",
   "id": "7a28f209",
   "metadata": {},
   "source": [
    "Ora supponiamo di non sapere nulla di come il gestore sta lavorando proviamo a estrapolarne i fattori"
   ]
  },
  {
   "cell_type": "code",
   "execution_count": 16,
   "id": "f61b0dc7",
   "metadata": {},
   "outputs": [],
   "source": [
    "from factor import style_analysis\n",
    "weights = style_analysis(mgr_r, ind)*100"
   ]
  },
  {
   "cell_type": "code",
   "execution_count": 17,
   "id": "cf68773a",
   "metadata": {},
   "outputs": [
    {
     "data": {
      "text/plain": [
       "<Axes: >"
      ]
     },
     "execution_count": 17,
     "metadata": {},
     "output_type": "execute_result"
    },
    {
     "data": {
      "image/png": "[encoded data removed]",
      "text/plain": [
       "<Figure size 640x480 with 1 Axes>"
      ]
     },
     "metadata": {},
     "output_type": "display_data"
    }
   ],
   "source": [
    "weights.sort_values(ascending=False).head(6).plot.bar()"
   ]
  },
  {
   "cell_type": "markdown",
   "id": "a668cf07",
   "metadata": {},
   "source": [
    "Possiamo fare la stessa cosa usando la regressione, proviamo a eseguire una analisi fattoriale. Tuttavia come si vede la regressione può generare fattori negativi che possono esere difficili da spiegare."
   ]
  },
  {
   "cell_type": "code",
   "execution_count": 18,
   "id": "cdc05f70",
   "metadata": {},
   "outputs": [
    {
     "data": {
      "text/plain": [
       "FabPr   -2.904946\n",
       "Clths   -2.273819\n",
       "Food    -2.113865\n",
       "Cnstr   -2.093520\n",
       "Other   -1.968557\n",
       "dtype: float64"
      ]
     },
     "execution_count": 18,
     "metadata": {},
     "output_type": "execute_result"
    }
   ],
   "source": [
    "coeffs = regress(mgr_r, ind).params*100\n",
    "coeffs.sort_values().head()"
   ]
  },
  {
   "cell_type": "code",
   "execution_count": 19,
   "id": "7f43c28d",
   "metadata": {},
   "outputs": [
    {
     "data": {
      "text/plain": [
       "<Axes: >"
      ]
     },
     "execution_count": 19,
     "metadata": {},
     "output_type": "execute_result"
    },
    {
     "data": {
      "image/png": "[encoded data removed]",
      "text/plain": [
       "<Figure size 640x480 with 1 Axes>"
      ]
     },
     "metadata": {},
     "output_type": "display_data"
    }
   ],
   "source": [
    "coeffs.sort_values(ascending=False).head(6).plot.bar()"
   ]
  },
  {
   "cell_type": "markdown",
   "id": "cacf9ccd",
   "metadata": {},
   "source": [
    "A parte i valori negativi anche la regressione si avvicina al risultato che volevamo ottenere.\n",
    "\n",
    "### Variazioni nel tempo ovvero analisi del drifting dello stile \n",
    "\n",
    "Una delle analisi più comuni che possiamo fare è misurare lo Sharp Style nel tempo usando ad esempio finestre temporali da 1 o 5 anni. Attraverso queste tecniche possiamo estrarre lo stile che il gestore ha applicato nel tempo.\n",
    "\n",
    "Come riferimento possiamo usare i seguenti ETF\n",
    "\n",
    "* \"SPYG\" per la parte Growth\n",
    "* \"SPYV\" per la parte Value\n",
    "* \"SLY\" per la parte SmallCap\n",
    "* \"OEF\" per la parte LargeCap\n",
    "\n",
    "\n",
    "Alternativamente ai fattori di Fama e Frenc, questo è molto simile allo style box sviluppato da MorningStar provare per credere.\n",
    "\n",
    "### Potenziali problemi nell'uso della Style Analisys\n",
    "\n",
    "L'analisi dello stile funziona bene quando le variabili in cui scomponiamo l'indice hanno senso.\n",
    "Parte di questo lavoro è proprio lo scegliere le variabili che hanno un senso.\n",
    "\n",
    "Facciamo un esempio scomponiamo i rendimenti del fondo Berkshire nei settori visti prima"
   ]
  },
  {
   "cell_type": "code",
   "execution_count": 20,
   "id": "67b30391",
   "metadata": {},
   "outputs": [
    {
     "data": {
      "text/plain": [
       "Food     41.35\n",
       "Fin      17.61\n",
       "Meals    12.11\n",
       "Other    11.03\n",
       "Util      7.19\n",
       "Clths     5.99\n",
       "dtype: float64"
      ]
     },
     "execution_count": 20,
     "metadata": {},
     "output_type": "execute_result"
    }
   ],
   "source": [
    "mgr_r_b = brka_m[\"2000\":][\"BRKA\"]\n",
    "weights_b = style_analysis(mgr_r_b, ind)\n",
    "weights_b.sort_values(ascending=False).head(6).round(4)*100"
   ]
  },
  {
   "cell_type": "markdown",
   "id": "00d86967",
   "metadata": {},
   "source": [
    "Cambiamo il periodo e mettiamo dal 2009 in poi"
   ]
  },
  {
   "cell_type": "code",
   "execution_count": 21,
   "id": "efe6c521",
   "metadata": {},
   "outputs": [
    {
     "data": {
      "text/plain": [
       "Other    43.64\n",
       "Food     28.33\n",
       "Hlth     22.72\n",
       "Rtail     5.25\n",
       "Meals     0.07\n",
       "Hshld     0.00\n",
       "dtype: float64"
      ]
     },
     "execution_count": 21,
     "metadata": {},
     "output_type": "execute_result"
    }
   ],
   "source": [
    "brk2009 = brka_m[\"2009\":][\"BRKA\"]\n",
    "ind2009 = ind[\"2009\":]\n",
    "style_analysis(brk2009, ind2009).sort_values(ascending=False).head(6).round(4)*100"
   ]
  },
  {
   "cell_type": "markdown",
   "id": "9a86403d",
   "metadata": {},
   "source": [
    "Vadiamo che i risultati sono completamente differenti\n",
    "\n",
    "## Comparazione dei portafogli Equally Weighted e Cap Weighted\n",
    "\n",
    "Volgiamo ora utilizzare i dati visti sino ad ora per verificare se i portafogli Equally Weighted tendono ad essere migliori in termini di rischio rendimento rispetto ai portafogli Equally Weighted\n",
    "\n"
   ]
  },
  {
   "cell_type": "code",
   "execution_count": 22,
   "id": "d41b4914",
   "metadata": {},
   "outputs": [],
   "source": [
    "ind_cw = get_ind_returns()\n",
    "ind_ew = get_ind_returns(weighting=\"ew\")"
   ]
  },
  {
   "cell_type": "markdown",
   "id": "199c3f52",
   "metadata": {},
   "source": [
    "Creiamo il nostro dataframe con il Sharpe Ratio"
   ]
  },
  {
   "cell_type": "code",
   "execution_count": 23,
   "id": "032cc14c",
   "metadata": {},
   "outputs": [],
   "source": [
    "from risk import sharpe_ratio\n",
    "sr = pd.DataFrame({\"CW\": sharpe_ratio(ind_cw[\"1945\":], 0.03, 12), \"EW\": sharpe_ratio(ind_ew[\"1945\":], 0.03, 12)})"
   ]
  },
  {
   "cell_type": "markdown",
   "id": "d89dcc87",
   "metadata": {},
   "source": [
    "e visualizziamo i dati"
   ]
  },
  {
   "cell_type": "code",
   "execution_count": 24,
   "id": "0a11cd9f",
   "metadata": {},
   "outputs": [
    {
     "data": {
      "text/plain": [
       "<Axes: >"
      ]
     },
     "execution_count": 24,
     "metadata": {},
     "output_type": "execute_result"
    },
    {
     "data": {
      "image/png": "[encoded data removed]",
      "text/plain": [
       "<Figure size 1200x600 with 1 Axes>"
      ]
     },
     "metadata": {},
     "output_type": "display_data"
    }
   ],
   "source": [
    "sr.plot.bar(figsize=(12, 6))"
   ]
  },
  {
   "cell_type": "markdown",
   "id": "9dac0e83",
   "metadata": {},
   "source": [
    "Vediamo in media quanto lo sharpe ratio nella strategia EW si comporta meglio della strategia CW"
   ]
  },
  {
   "cell_type": "code",
   "execution_count": 25,
   "id": "005f33b4",
   "metadata": {},
   "outputs": [
    {
     "data": {
      "text/plain": [
       "63.333333333333336"
      ]
     },
     "execution_count": 25,
     "metadata": {},
     "output_type": "execute_result"
    }
   ],
   "source": [
    "(sr[\"EW\"] > sr[\"CW\"]).sum()*100/sr.shape[0]"
   ]
  },
  {
   "cell_type": "markdown",
   "id": "29549e56",
   "metadata": {},
   "source": [
    "Nel complesso dal 1945 i fondi EW hanno avuto un rapprto rischio rendimento migliore il 63% delle volte.\n",
    "Proviamo a vedere come il rapporto di Sharpe varia nel tempo usando la media mobile"
   ]
  },
  {
   "cell_type": "code",
   "execution_count": 26,
   "id": "300602ef",
   "metadata": {},
   "outputs": [
    {
     "data": {
      "text/plain": [
       "Text(0.5, 1.0, 'Average Trailing 5 year Sharpe Ratio across 30 Industry Portfolios 1945-2018')"
      ]
     },
     "execution_count": 26,
     "metadata": {},
     "output_type": "execute_result"
    },
    {
     "data": {
      "image/png": "[encoded data removed]",
      "text/plain": [
       "<Figure size 1200x500 with 1 Axes>"
      ]
     },
     "metadata": {},
     "output_type": "display_data"
    }
   ],
   "source": [
    "ax = ind_cw.rolling(60).apply(sharpe_ratio, raw=True, kwargs={\"riskfree_rate\":0.03, \"periods_per_year\":12}).mean(axis=1)[\"1945\":].plot(figsize=(12,5), label=\"CW\", legend=True)\n",
    "ind_ew.rolling(60).apply(sharpe_ratio, raw=True, kwargs={\"riskfree_rate\":0.03, \"periods_per_year\":12}).mean(axis=1)[\"1945\":].plot(ax=ax, label=\"EW\", legend=True)\n",
    "ax.set_title(\"Average Trailing 5 year Sharpe Ratio across 30 Industry Portfolios 1945-2018\")"
   ]
  },
  {
   "cell_type": "markdown",
   "id": "ac1bcabb",
   "metadata": {},
   "source": [
    "## Backtest sui portafogli EW e CW\n",
    "\n",
    "proviamo ora eseguire dei backtest sulle due strategie di portafoglio, iniziamo con qualcosa di semplice.\n",
    "\n",
    "Per ora non consideriamo la covarianza"
   ]
  },
  {
   "cell_type": "code",
   "execution_count": 29,
   "id": "70de752d",
   "metadata": {},
   "outputs": [],
   "source": [
    "from dataset import get_ind_market_caps\n",
    "\n",
    "ind49_rets = get_ind_returns(weighting=\"vw\", n_inds=49)[\"1974\":]\n",
    "ind49_mcap = get_ind_market_caps(49, weights=True)[\"1974\":]"
   ]
  },
  {
   "cell_type": "code",
   "execution_count": 30,
   "id": "d2eefce4",
   "metadata": {},
   "outputs": [],
   "source": [
    "def weight_ew(r):\n",
    "    \"\"\"\n",
    "    Returns the weights of the EW portfolio based on the asset returns \"r\" as a DataFrame\n",
    "    \"\"\"\n",
    "    n = len(r.columns)\n",
    "    return pd.Series(1/n, index=r.columns)\n",
    "\n",
    "def backtest_ws(r, estimation_window=60, weighting=weight_ew):\n",
    "    \"\"\"\n",
    "    Backtests a given weighting scheme, given some parameters:\n",
    "    r : asset returns to use to build the portfolio\n",
    "    estimation_window: the window to use to estimate parameters\n",
    "    weighting: the weighting scheme to use, must be a function that takes \"r\", and a variable number of keyword-value arguments\n",
    "    \"\"\"\n",
    "    n_periods = r.shape[0]\n",
    "    windows = [(start, start+estimation_window) for start in range(n_periods-estimation_window+1)]\n",
    "    # windows is a list of tuples which gives us the (integer) location of the start and stop (non inclusive)\n",
    "    # for each estimation window\n",
    "    weights = [weighting(r.iloc[win[0]:win[1]]) for win in windows]\n",
    "    # List -> DataFrame\n",
    "    weights = pd.DataFrame(weights, index=r.iloc[estimation_window-1:].index, columns=r.columns)\n",
    "    # return weights\n",
    "    returns = (weights * r).sum(axis=\"columns\",  min_count=1) #mincount is to generate NAs if all inputs are NAs\n",
    "    return returns"
   ]
  },
  {
   "cell_type": "code",
   "execution_count": 31,
   "id": "d8354a38",
   "metadata": {},
   "outputs": [
    {
     "data": {
      "image/png": "[encoded data removed]",
      "text/plain": [
       "<Figure size 1200x600 with 1 Axes>"
      ]
     },
     "metadata": {},
     "output_type": "display_data"
    }
   ],
   "source": [
    "ewr = backtest_ws(ind49_rets, weighting=weight_ew)\n",
    "ewi = (1+ewr).cumprod()\n",
    "ewi.plot(figsize=(12,6), title=\"49 Industries - Equally Weighted\");"
   ]
  },
  {
   "cell_type": "markdown",
   "id": "a9bf60f3",
   "metadata": {},
   "source": [
    "Eseguiamo ora l'indice con i peso Cap Weighted"
   ]
  },
  {
   "cell_type": "code",
   "execution_count": null,
   "id": "cb599d3f",
   "metadata": {},
   "outputs": [],
   "source": []
  }
 ],
 "metadata": {
  "kernelspec": {
   "display_name": "Python 3 (ipykernel)",
   "language": "python",
   "name": "python3"
  },
  "language_info": {
   "codemirror_mode": {
    "name": "ipython",
    "version": 3
   },
   "file_extension": ".py",
   "mimetype": "text/x-python",
   "name": "python",
   "nbconvert_exporter": "python",
   "pygments_lexer": "ipython3",
   "version": "3.11.5"
  }
 },
 "nbformat": 4,
 "nbformat_minor": 5
}
