{
 "cells": [
  {
   "cell_type": "markdown",
   "id": "239192ab",
   "metadata": {},
   "source": [
    "# Stima dei rendimenti\n",
    "\n",
    "Parliamo di rendimenti attesi, purtoppo la stima dei rendimenti basate su campione sono quasi del tutto inutili. Questo vale specialmente se i dati sono altamente rumorosi (alta volatilità).\n",
    "\n",
    "Piccole variazioni nel campione porteranno grandi variazioni nella stima finale.\n",
    "Cosa possiamo fare se queste statistiche sono inutili?\n",
    "\n",
    "Dobbiamo dimenticarci delle statistiche basate su campione e spostarci su un nuovo campo di statistica (Bayesiana), nella statistica classica o frequentisca assumiamo di non sapere nulla del risultato prima di esaminare il campione. La statistica bayesiana prima di iniziare l'esperimento parte da un presupposto"
   ]
  },
  {
   "cell_type": "code",
   "execution_count": null,
   "id": "5bf624b3",
   "metadata": {},
   "outputs": [],
   "source": []
  }
 ],
 "metadata": {
  "kernelspec": {
   "display_name": "Python 3 (ipykernel)",
   "language": "python",
   "name": "python3"
  },
  "language_info": {
   "codemirror_mode": {
    "name": "ipython",
    "version": 3
   },
   "file_extension": ".py",
   "mimetype": "text/x-python",
   "name": "python",
   "nbconvert_exporter": "python",
   "pygments_lexer": "ipython3",
   "version": "3.11.5"
  }
 },
 "nbformat": 4,
 "nbformat_minor": 5
}
